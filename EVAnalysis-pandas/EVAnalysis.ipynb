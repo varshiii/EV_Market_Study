{
 "cells": [
  {
   "cell_type": "markdown",
   "metadata": {},
   "source": [
    "<h2 align=\"center\"> EV/Hybrid market Analysis<h2>"
   ]
  },
  {
   "cell_type": "code",
   "execution_count": 64,
   "metadata": {},
   "outputs": [],
   "source": [
    "#importing packages\n",
    "import pandas as pd\n",
    "import matplotlib.pyplot as plt\n",
    "import seaborn as sns\n",
    "import geopandas as gpd"
   ]
  },
  {
   "cell_type": "markdown",
   "metadata": {},
   "source": [
    "***\n",
    "### ==> 1. Data Import and Data Exploration\n",
    "***"
   ]
  },
  {
   "cell_type": "markdown",
   "metadata": {},
   "source": [
    "### Datasets\n",
    "We have 3 csv file  :\n",
    "   - electric_vehicle_sales_by_state.csv  \n",
    "   - electric_vehicle_sales_by_makers.csv  \n",
    "   - dim_date.csv"
   ]
  },
  {
   "cell_type": "markdown",
   "metadata": {},
   "source": [
    "Read all data from the file"
   ]
  },
  {
   "cell_type": "code",
   "execution_count": 65,
   "metadata": {},
   "outputs": [],
   "source": [
    "df_salebymaker = pd.read_csv('datasets/electric_vehicle_sales_by_makers.csv')\n",
    "df_salebystate = pd.read_csv('datasets/electric_vehicle_sales_by_state.csv')\n",
    "df_dimdate = pd.read_csv('datasets/dim_date.csv')"
   ]
  },
  {
   "cell_type": "markdown",
   "metadata": {},
   "source": [
    "Explore the sales by maker"
   ]
  },
  {
   "cell_type": "code",
   "execution_count": 66,
   "metadata": {},
   "outputs": [
    {
     "data": {
      "text/html": [
       "<div>\n",
       "<style scoped>\n",
       "    .dataframe tbody tr th:only-of-type {\n",
       "        vertical-align: middle;\n",
       "    }\n",
       "\n",
       "    .dataframe tbody tr th {\n",
       "        vertical-align: top;\n",
       "    }\n",
       "\n",
       "    .dataframe thead th {\n",
       "        text-align: right;\n",
       "    }\n",
       "</style>\n",
       "<table border=\"1\" class=\"dataframe\">\n",
       "  <thead>\n",
       "    <tr style=\"text-align: right;\">\n",
       "      <th></th>\n",
       "      <th>date</th>\n",
       "      <th>vehicle_category</th>\n",
       "      <th>maker</th>\n",
       "      <th>electric_vehicles_sold</th>\n",
       "    </tr>\n",
       "  </thead>\n",
       "  <tbody>\n",
       "    <tr>\n",
       "      <th>0</th>\n",
       "      <td>01-Apr-21</td>\n",
       "      <td>2-Wheelers</td>\n",
       "      <td>OLA ELECTRIC</td>\n",
       "      <td>0</td>\n",
       "    </tr>\n",
       "    <tr>\n",
       "      <th>1</th>\n",
       "      <td>01-Apr-22</td>\n",
       "      <td>2-Wheelers</td>\n",
       "      <td>OKAYA EV</td>\n",
       "      <td>0</td>\n",
       "    </tr>\n",
       "    <tr>\n",
       "      <th>2</th>\n",
       "      <td>01-May-21</td>\n",
       "      <td>2-Wheelers</td>\n",
       "      <td>OLA ELECTRIC</td>\n",
       "      <td>0</td>\n",
       "    </tr>\n",
       "    <tr>\n",
       "      <th>3</th>\n",
       "      <td>01-Jun-21</td>\n",
       "      <td>2-Wheelers</td>\n",
       "      <td>OLA ELECTRIC</td>\n",
       "      <td>0</td>\n",
       "    </tr>\n",
       "    <tr>\n",
       "      <th>4</th>\n",
       "      <td>01-Jul-21</td>\n",
       "      <td>2-Wheelers</td>\n",
       "      <td>OLA ELECTRIC</td>\n",
       "      <td>0</td>\n",
       "    </tr>\n",
       "    <tr>\n",
       "      <th>5</th>\n",
       "      <td>01-Aug-21</td>\n",
       "      <td>2-Wheelers</td>\n",
       "      <td>OLA ELECTRIC</td>\n",
       "      <td>0</td>\n",
       "    </tr>\n",
       "    <tr>\n",
       "      <th>6</th>\n",
       "      <td>01-Sep-21</td>\n",
       "      <td>2-Wheelers</td>\n",
       "      <td>OLA ELECTRIC</td>\n",
       "      <td>0</td>\n",
       "    </tr>\n",
       "    <tr>\n",
       "      <th>7</th>\n",
       "      <td>01-Oct-21</td>\n",
       "      <td>2-Wheelers</td>\n",
       "      <td>OLA ELECTRIC</td>\n",
       "      <td>0</td>\n",
       "    </tr>\n",
       "    <tr>\n",
       "      <th>8</th>\n",
       "      <td>01-Nov-21</td>\n",
       "      <td>2-Wheelers</td>\n",
       "      <td>OLA ELECTRIC</td>\n",
       "      <td>0</td>\n",
       "    </tr>\n",
       "    <tr>\n",
       "      <th>9</th>\n",
       "      <td>01-Apr-21</td>\n",
       "      <td>4-Wheelers</td>\n",
       "      <td>BYD India</td>\n",
       "      <td>0</td>\n",
       "    </tr>\n",
       "  </tbody>\n",
       "</table>\n",
       "</div>"
      ],
      "text/plain": [
       "        date vehicle_category         maker  electric_vehicles_sold\n",
       "0  01-Apr-21       2-Wheelers  OLA ELECTRIC                       0\n",
       "1  01-Apr-22       2-Wheelers      OKAYA EV                       0\n",
       "2  01-May-21       2-Wheelers  OLA ELECTRIC                       0\n",
       "3  01-Jun-21       2-Wheelers  OLA ELECTRIC                       0\n",
       "4  01-Jul-21       2-Wheelers  OLA ELECTRIC                       0\n",
       "5  01-Aug-21       2-Wheelers  OLA ELECTRIC                       0\n",
       "6  01-Sep-21       2-Wheelers  OLA ELECTRIC                       0\n",
       "7  01-Oct-21       2-Wheelers  OLA ELECTRIC                       0\n",
       "8  01-Nov-21       2-Wheelers  OLA ELECTRIC                       0\n",
       "9  01-Apr-21       4-Wheelers     BYD India                       0"
      ]
     },
     "execution_count": 66,
     "metadata": {},
     "output_type": "execute_result"
    }
   ],
   "source": [
    "df_salebymaker.head(10)"
   ]
  },
  {
   "cell_type": "code",
   "execution_count": 67,
   "metadata": {},
   "outputs": [
    {
     "data": {
      "text/html": [
       "<div>\n",
       "<style scoped>\n",
       "    .dataframe tbody tr th:only-of-type {\n",
       "        vertical-align: middle;\n",
       "    }\n",
       "\n",
       "    .dataframe tbody tr th {\n",
       "        vertical-align: top;\n",
       "    }\n",
       "\n",
       "    .dataframe thead th {\n",
       "        text-align: right;\n",
       "    }\n",
       "</style>\n",
       "<table border=\"1\" class=\"dataframe\">\n",
       "  <thead>\n",
       "    <tr style=\"text-align: right;\">\n",
       "      <th></th>\n",
       "      <th>electric_vehicles_sold</th>\n",
       "    </tr>\n",
       "  </thead>\n",
       "  <tbody>\n",
       "    <tr>\n",
       "      <th>count</th>\n",
       "      <td>816.00</td>\n",
       "    </tr>\n",
       "    <tr>\n",
       "      <th>mean</th>\n",
       "      <td>2532.00</td>\n",
       "    </tr>\n",
       "    <tr>\n",
       "      <th>std</th>\n",
       "      <td>4771.08</td>\n",
       "    </tr>\n",
       "    <tr>\n",
       "      <th>min</th>\n",
       "      <td>0.00</td>\n",
       "    </tr>\n",
       "    <tr>\n",
       "      <th>25%</th>\n",
       "      <td>42.00</td>\n",
       "    </tr>\n",
       "    <tr>\n",
       "      <th>50%</th>\n",
       "      <td>662.00</td>\n",
       "    </tr>\n",
       "    <tr>\n",
       "      <th>75%</th>\n",
       "      <td>2636.50</td>\n",
       "    </tr>\n",
       "    <tr>\n",
       "      <th>max</th>\n",
       "      <td>44630.00</td>\n",
       "    </tr>\n",
       "  </tbody>\n",
       "</table>\n",
       "</div>"
      ],
      "text/plain": [
       "       electric_vehicles_sold\n",
       "count                  816.00\n",
       "mean                  2532.00\n",
       "std                   4771.08\n",
       "min                      0.00\n",
       "25%                     42.00\n",
       "50%                    662.00\n",
       "75%                   2636.50\n",
       "max                  44630.00"
      ]
     },
     "execution_count": 67,
     "metadata": {},
     "output_type": "execute_result"
    }
   ],
   "source": [
    "df_salebymaker.describe().round(2)   #Know about the dataset"
   ]
  },
  {
   "cell_type": "code",
   "execution_count": 68,
   "metadata": {},
   "outputs": [
    {
     "data": {
      "text/plain": [
       "date                      0\n",
       "vehicle_category          0\n",
       "maker                     0\n",
       "electric_vehicles_sold    0\n",
       "dtype: int64"
      ]
     },
     "execution_count": 68,
     "metadata": {},
     "output_type": "execute_result"
    }
   ],
   "source": [
    "df_salebymaker.isnull().sum()   #Check the whether there is null value or not."
   ]
  },
  {
   "cell_type": "code",
   "execution_count": 69,
   "metadata": {},
   "outputs": [
    {
     "data": {
      "text/plain": [
       "(816, 4)"
      ]
     },
     "execution_count": 69,
     "metadata": {},
     "output_type": "execute_result"
    }
   ],
   "source": [
    "df_salebymaker.shape #Size of row and  column"
   ]
  },
  {
   "cell_type": "code",
   "execution_count": 70,
   "metadata": {},
   "outputs": [
    {
     "data": {
      "text/plain": [
       "array(['2-Wheelers', '4-Wheelers'], dtype=object)"
      ]
     },
     "execution_count": 70,
     "metadata": {},
     "output_type": "execute_result"
    }
   ],
   "source": [
    "df_salebymaker.vehicle_category.unique()"
   ]
  },
  {
   "cell_type": "code",
   "execution_count": 71,
   "metadata": {},
   "outputs": [
    {
     "name": "stdout",
     "output_type": "stream",
     "text": [
      "['AMPERE' 'ATHER' 'BAJAJ' 'BATTRE ELECTRIC' 'BEING' 'BGAUSS' 'BMW India'\n",
      " 'BYD India' 'HERO ELECTRIC' 'Hyundai Motor' 'JITENDRA' 'KIA Motors'\n",
      " 'KINETIC GREEN' 'MG Motor' 'Mahindra & Mahindra' 'Mercedes -Benz AG'\n",
      " 'OKAYA EV' 'OKINAWA' 'OLA ELECTRIC' 'OTHERS' 'PCA Automobiles' 'PURE EV'\n",
      " 'REVOLT' 'TVS' 'Tata Motors' 'Volvo Auto India']\n",
      "\n",
      "Number of maker in India  26\n"
     ]
    }
   ],
   "source": [
    "marker = df_salebymaker.maker.unique()\n",
    "marker.sort()\n",
    "print(marker)\n",
    "print(\"\\nNumber of maker in India \",df_salebymaker.maker.unique().size)"
   ]
  },
  {
   "cell_type": "code",
   "execution_count": 72,
   "metadata": {},
   "outputs": [
    {
     "data": {
      "text/plain": [
       "maker\n",
       "Mercedes -Benz AG         388\n",
       "KIA Motors                557\n",
       "Volvo Auto India          568\n",
       "BMW India                1370\n",
       "PCA Automobiles          1684\n",
       "Hyundai Motor            2076\n",
       "BYD India                2419\n",
       "BATTRE ELECTRIC          4841\n",
       "KINETIC GREEN            9585\n",
       "JITENDRA                12438\n",
       "MG Motor                13753\n",
       "BGAUSS                  15051\n",
       "BEING                   18392\n",
       "PURE EV                 26524\n",
       "OKAYA EV                27036\n",
       "REVOLT                  27828\n",
       "Mahindra & Mahindra     41193\n",
       "Tata Motors             88935\n",
       "BAJAJ                  145606\n",
       "OTHERS                 156471\n",
       "OKINAWA                165231\n",
       "AMPERE                 167274\n",
       "HERO ELECTRIC          170394\n",
       "ATHER                  204449\n",
       "TVS                    272575\n",
       "OLA ELECTRIC           489473\n",
       "Name: electric_vehicles_sold, dtype: int64"
      ]
     },
     "execution_count": 72,
     "metadata": {},
     "output_type": "execute_result"
    }
   ],
   "source": [
    "df_salebymaker.groupby(df_salebymaker['maker']).electric_vehicles_sold.sum().sort_values() # Total number cars sold in each maker ie each company"
   ]
  },
  {
   "cell_type": "code",
   "execution_count": 73,
   "metadata": {},
   "outputs": [
    {
     "data": {
      "text/html": [
       "<div>\n",
       "<style scoped>\n",
       "    .dataframe tbody tr th:only-of-type {\n",
       "        vertical-align: middle;\n",
       "    }\n",
       "\n",
       "    .dataframe tbody tr th {\n",
       "        vertical-align: top;\n",
       "    }\n",
       "\n",
       "    .dataframe thead th {\n",
       "        text-align: right;\n",
       "    }\n",
       "</style>\n",
       "<table border=\"1\" class=\"dataframe\">\n",
       "  <thead>\n",
       "    <tr style=\"text-align: right;\">\n",
       "      <th></th>\n",
       "      <th>date</th>\n",
       "      <th>state</th>\n",
       "      <th>vehicle_category</th>\n",
       "      <th>electric_vehicles_sold</th>\n",
       "      <th>total_vehicles_sold</th>\n",
       "    </tr>\n",
       "  </thead>\n",
       "  <tbody>\n",
       "    <tr>\n",
       "      <th>0</th>\n",
       "      <td>01-Apr-21</td>\n",
       "      <td>Sikkim</td>\n",
       "      <td>2-Wheelers</td>\n",
       "      <td>0</td>\n",
       "      <td>398</td>\n",
       "    </tr>\n",
       "    <tr>\n",
       "      <th>1</th>\n",
       "      <td>01-Apr-21</td>\n",
       "      <td>Sikkim</td>\n",
       "      <td>4-Wheelers</td>\n",
       "      <td>0</td>\n",
       "      <td>361</td>\n",
       "    </tr>\n",
       "    <tr>\n",
       "      <th>2</th>\n",
       "      <td>01-May-21</td>\n",
       "      <td>Sikkim</td>\n",
       "      <td>2-Wheelers</td>\n",
       "      <td>0</td>\n",
       "      <td>113</td>\n",
       "    </tr>\n",
       "    <tr>\n",
       "      <th>3</th>\n",
       "      <td>01-May-21</td>\n",
       "      <td>Sikkim</td>\n",
       "      <td>4-Wheelers</td>\n",
       "      <td>0</td>\n",
       "      <td>98</td>\n",
       "    </tr>\n",
       "    <tr>\n",
       "      <th>4</th>\n",
       "      <td>01-Jun-21</td>\n",
       "      <td>Sikkim</td>\n",
       "      <td>2-Wheelers</td>\n",
       "      <td>0</td>\n",
       "      <td>229</td>\n",
       "    </tr>\n",
       "    <tr>\n",
       "      <th>5</th>\n",
       "      <td>01-Jun-21</td>\n",
       "      <td>Sikkim</td>\n",
       "      <td>4-Wheelers</td>\n",
       "      <td>0</td>\n",
       "      <td>244</td>\n",
       "    </tr>\n",
       "    <tr>\n",
       "      <th>6</th>\n",
       "      <td>01-Jul-21</td>\n",
       "      <td>Sikkim</td>\n",
       "      <td>2-Wheelers</td>\n",
       "      <td>0</td>\n",
       "      <td>458</td>\n",
       "    </tr>\n",
       "    <tr>\n",
       "      <th>7</th>\n",
       "      <td>01-Jul-21</td>\n",
       "      <td>Sikkim</td>\n",
       "      <td>4-Wheelers</td>\n",
       "      <td>0</td>\n",
       "      <td>452</td>\n",
       "    </tr>\n",
       "    <tr>\n",
       "      <th>8</th>\n",
       "      <td>01-Aug-21</td>\n",
       "      <td>Sikkim</td>\n",
       "      <td>2-Wheelers</td>\n",
       "      <td>0</td>\n",
       "      <td>489</td>\n",
       "    </tr>\n",
       "    <tr>\n",
       "      <th>9</th>\n",
       "      <td>01-Aug-21</td>\n",
       "      <td>Sikkim</td>\n",
       "      <td>4-Wheelers</td>\n",
       "      <td>0</td>\n",
       "      <td>408</td>\n",
       "    </tr>\n",
       "  </tbody>\n",
       "</table>\n",
       "</div>"
      ],
      "text/plain": [
       "        date   state vehicle_category  electric_vehicles_sold  \\\n",
       "0  01-Apr-21  Sikkim       2-Wheelers                       0   \n",
       "1  01-Apr-21  Sikkim       4-Wheelers                       0   \n",
       "2  01-May-21  Sikkim       2-Wheelers                       0   \n",
       "3  01-May-21  Sikkim       4-Wheelers                       0   \n",
       "4  01-Jun-21  Sikkim       2-Wheelers                       0   \n",
       "5  01-Jun-21  Sikkim       4-Wheelers                       0   \n",
       "6  01-Jul-21  Sikkim       2-Wheelers                       0   \n",
       "7  01-Jul-21  Sikkim       4-Wheelers                       0   \n",
       "8  01-Aug-21  Sikkim       2-Wheelers                       0   \n",
       "9  01-Aug-21  Sikkim       4-Wheelers                       0   \n",
       "\n",
       "   total_vehicles_sold  \n",
       "0                  398  \n",
       "1                  361  \n",
       "2                  113  \n",
       "3                   98  \n",
       "4                  229  \n",
       "5                  244  \n",
       "6                  458  \n",
       "7                  452  \n",
       "8                  489  \n",
       "9                  408  "
      ]
     },
     "execution_count": 73,
     "metadata": {},
     "output_type": "execute_result"
    }
   ],
   "source": [
    "df_salebystate.head(10)"
   ]
  },
  {
   "cell_type": "code",
   "execution_count": 74,
   "metadata": {},
   "outputs": [
    {
     "data": {
      "text/html": [
       "<div>\n",
       "<style scoped>\n",
       "    .dataframe tbody tr th:only-of-type {\n",
       "        vertical-align: middle;\n",
       "    }\n",
       "\n",
       "    .dataframe tbody tr th {\n",
       "        vertical-align: top;\n",
       "    }\n",
       "\n",
       "    .dataframe thead th {\n",
       "        text-align: right;\n",
       "    }\n",
       "</style>\n",
       "<table border=\"1\" class=\"dataframe\">\n",
       "  <thead>\n",
       "    <tr style=\"text-align: right;\">\n",
       "      <th></th>\n",
       "      <th>electric_vehicles_sold</th>\n",
       "      <th>total_vehicles_sold</th>\n",
       "    </tr>\n",
       "  </thead>\n",
       "  <tbody>\n",
       "    <tr>\n",
       "      <th>count</th>\n",
       "      <td>2445.00</td>\n",
       "      <td>2445.00</td>\n",
       "    </tr>\n",
       "    <tr>\n",
       "      <th>mean</th>\n",
       "      <td>845.04</td>\n",
       "      <td>23402.97</td>\n",
       "    </tr>\n",
       "    <tr>\n",
       "      <th>std</th>\n",
       "      <td>2185.17</td>\n",
       "      <td>38353.27</td>\n",
       "    </tr>\n",
       "    <tr>\n",
       "      <th>min</th>\n",
       "      <td>0.00</td>\n",
       "      <td>1.00</td>\n",
       "    </tr>\n",
       "    <tr>\n",
       "      <th>25%</th>\n",
       "      <td>2.00</td>\n",
       "      <td>1158.00</td>\n",
       "    </tr>\n",
       "    <tr>\n",
       "      <th>50%</th>\n",
       "      <td>54.00</td>\n",
       "      <td>6098.00</td>\n",
       "    </tr>\n",
       "    <tr>\n",
       "      <th>75%</th>\n",
       "      <td>534.00</td>\n",
       "      <td>29396.00</td>\n",
       "    </tr>\n",
       "    <tr>\n",
       "      <th>max</th>\n",
       "      <td>26668.00</td>\n",
       "      <td>387983.00</td>\n",
       "    </tr>\n",
       "  </tbody>\n",
       "</table>\n",
       "</div>"
      ],
      "text/plain": [
       "       electric_vehicles_sold  total_vehicles_sold\n",
       "count                 2445.00              2445.00\n",
       "mean                   845.04             23402.97\n",
       "std                   2185.17             38353.27\n",
       "min                      0.00                 1.00\n",
       "25%                      2.00              1158.00\n",
       "50%                     54.00              6098.00\n",
       "75%                    534.00             29396.00\n",
       "max                  26668.00            387983.00"
      ]
     },
     "execution_count": 74,
     "metadata": {},
     "output_type": "execute_result"
    }
   ],
   "source": [
    "df_salebystate.describe().round(2)"
   ]
  },
  {
   "cell_type": "code",
   "execution_count": 75,
   "metadata": {},
   "outputs": [
    {
     "data": {
      "text/plain": [
       "(2445, 5)"
      ]
     },
     "execution_count": 75,
     "metadata": {},
     "output_type": "execute_result"
    }
   ],
   "source": [
    "df_salebystate.shape"
   ]
  },
  {
   "cell_type": "code",
   "execution_count": 76,
   "metadata": {},
   "outputs": [
    {
     "name": "stdout",
     "output_type": "stream",
     "text": [
      "['Andaman & Nicobar' 'Andaman & Nicobar Island' 'Andhra Pradesh'\n",
      " 'Arunachal Pradesh' 'Assam' 'Bihar' 'Chandigarh' 'Chhattisgarh'\n",
      " 'DNH and DD' 'Delhi' 'Goa' 'Gujarat' 'Haryana' 'Himachal Pradesh'\n",
      " 'Jammu and Kashmir' 'Jharkhand' 'Karnataka' 'Kerala' 'Ladakh'\n",
      " 'Madhya Pradesh' 'Maharashtra' 'Manipur' 'Meghalaya' 'Mizoram' 'Nagaland'\n",
      " 'Odisha' 'Puducherry' 'Punjab' 'Rajasthan' 'Sikkim' 'Tamil Nadu'\n",
      " 'Tripura' 'Uttar Pradesh' 'Uttarakhand' 'West Bengal']\n",
      "\n",
      "Number of states where sales takes place  35\n"
     ]
    }
   ],
   "source": [
    "states=df_salebystate['state'].unique()\n",
    "states.sort()\n",
    "print(states)\n",
    "print(\"\\nNumber of states where sales takes place \",df_salebystate['state'].unique().size)"
   ]
  },
  {
   "cell_type": "code",
   "execution_count": 77,
   "metadata": {},
   "outputs": [
    {
     "data": {
      "text/plain": [
       "date                      0\n",
       "state                     0\n",
       "vehicle_category          0\n",
       "electric_vehicles_sold    0\n",
       "total_vehicles_sold       0\n",
       "dtype: int64"
      ]
     },
     "execution_count": 77,
     "metadata": {},
     "output_type": "execute_result"
    }
   ],
   "source": [
    "df_salebystate.isnull().sum()"
   ]
  },
  {
   "cell_type": "code",
   "execution_count": 78,
   "metadata": {},
   "outputs": [
    {
     "data": {
      "text/html": [
       "<div>\n",
       "<style scoped>\n",
       "    .dataframe tbody tr th:only-of-type {\n",
       "        vertical-align: middle;\n",
       "    }\n",
       "\n",
       "    .dataframe tbody tr th {\n",
       "        vertical-align: top;\n",
       "    }\n",
       "\n",
       "    .dataframe thead th {\n",
       "        text-align: right;\n",
       "    }\n",
       "</style>\n",
       "<table border=\"1\" class=\"dataframe\">\n",
       "  <thead>\n",
       "    <tr style=\"text-align: right;\">\n",
       "      <th></th>\n",
       "      <th>date</th>\n",
       "      <th>fiscal_year</th>\n",
       "      <th>quarter</th>\n",
       "    </tr>\n",
       "  </thead>\n",
       "  <tbody>\n",
       "    <tr>\n",
       "      <th>0</th>\n",
       "      <td>01-Apr-21</td>\n",
       "      <td>2022</td>\n",
       "      <td>Q1</td>\n",
       "    </tr>\n",
       "    <tr>\n",
       "      <th>1</th>\n",
       "      <td>01-May-21</td>\n",
       "      <td>2022</td>\n",
       "      <td>Q1</td>\n",
       "    </tr>\n",
       "    <tr>\n",
       "      <th>2</th>\n",
       "      <td>01-Jun-21</td>\n",
       "      <td>2022</td>\n",
       "      <td>Q1</td>\n",
       "    </tr>\n",
       "    <tr>\n",
       "      <th>3</th>\n",
       "      <td>01-Jul-21</td>\n",
       "      <td>2022</td>\n",
       "      <td>Q2</td>\n",
       "    </tr>\n",
       "    <tr>\n",
       "      <th>4</th>\n",
       "      <td>01-Aug-21</td>\n",
       "      <td>2022</td>\n",
       "      <td>Q2</td>\n",
       "    </tr>\n",
       "  </tbody>\n",
       "</table>\n",
       "</div>"
      ],
      "text/plain": [
       "        date  fiscal_year quarter\n",
       "0  01-Apr-21         2022      Q1\n",
       "1  01-May-21         2022      Q1\n",
       "2  01-Jun-21         2022      Q1\n",
       "3  01-Jul-21         2022      Q2\n",
       "4  01-Aug-21         2022      Q2"
      ]
     },
     "execution_count": 78,
     "metadata": {},
     "output_type": "execute_result"
    }
   ],
   "source": [
    "df_dimdate.head()"
   ]
  },
  {
   "cell_type": "code",
   "execution_count": 79,
   "metadata": {},
   "outputs": [
    {
     "data": {
      "text/html": [
       "<div>\n",
       "<style scoped>\n",
       "    .dataframe tbody tr th:only-of-type {\n",
       "        vertical-align: middle;\n",
       "    }\n",
       "\n",
       "    .dataframe tbody tr th {\n",
       "        vertical-align: top;\n",
       "    }\n",
       "\n",
       "    .dataframe thead th {\n",
       "        text-align: right;\n",
       "    }\n",
       "</style>\n",
       "<table border=\"1\" class=\"dataframe\">\n",
       "  <thead>\n",
       "    <tr style=\"text-align: right;\">\n",
       "      <th></th>\n",
       "      <th>fiscal_year</th>\n",
       "    </tr>\n",
       "  </thead>\n",
       "  <tbody>\n",
       "    <tr>\n",
       "      <th>count</th>\n",
       "      <td>36.00</td>\n",
       "    </tr>\n",
       "    <tr>\n",
       "      <th>mean</th>\n",
       "      <td>2023.00</td>\n",
       "    </tr>\n",
       "    <tr>\n",
       "      <th>std</th>\n",
       "      <td>0.83</td>\n",
       "    </tr>\n",
       "    <tr>\n",
       "      <th>min</th>\n",
       "      <td>2022.00</td>\n",
       "    </tr>\n",
       "    <tr>\n",
       "      <th>25%</th>\n",
       "      <td>2022.00</td>\n",
       "    </tr>\n",
       "    <tr>\n",
       "      <th>50%</th>\n",
       "      <td>2023.00</td>\n",
       "    </tr>\n",
       "    <tr>\n",
       "      <th>75%</th>\n",
       "      <td>2024.00</td>\n",
       "    </tr>\n",
       "    <tr>\n",
       "      <th>max</th>\n",
       "      <td>2024.00</td>\n",
       "    </tr>\n",
       "  </tbody>\n",
       "</table>\n",
       "</div>"
      ],
      "text/plain": [
       "       fiscal_year\n",
       "count        36.00\n",
       "mean       2023.00\n",
       "std           0.83\n",
       "min        2022.00\n",
       "25%        2022.00\n",
       "50%        2023.00\n",
       "75%        2024.00\n",
       "max        2024.00"
      ]
     },
     "execution_count": 79,
     "metadata": {},
     "output_type": "execute_result"
    }
   ],
   "source": [
    "df_dimdate.describe().round(2)"
   ]
  },
  {
   "cell_type": "code",
   "execution_count": 80,
   "metadata": {},
   "outputs": [
    {
     "data": {
      "text/plain": [
       "date           0\n",
       "fiscal_year    0\n",
       "quarter        0\n",
       "dtype: int64"
      ]
     },
     "execution_count": 80,
     "metadata": {},
     "output_type": "execute_result"
    }
   ],
   "source": [
    "df_dimdate.isnull().sum()"
   ]
  },
  {
   "cell_type": "markdown",
   "metadata": {},
   "source": [
    "***\n",
    "### ==> 2. Data Cleaning\n",
    "***"
   ]
  },
  {
   "cell_type": "code",
   "execution_count": 81,
   "metadata": {},
   "outputs": [
    {
     "name": "stdout",
     "output_type": "stream",
     "text": [
      "['Andaman & Nicobar' 'Andaman & Nicobar Island' 'Andhra Pradesh'\n",
      " 'Arunachal Pradesh' 'Assam' 'Bihar' 'Chandigarh' 'Chhattisgarh'\n",
      " 'DNH and DD' 'Delhi' 'Goa' 'Gujarat' 'Haryana' 'Himachal Pradesh'\n",
      " 'Jammu and Kashmir' 'Jharkhand' 'Karnataka' 'Kerala' 'Ladakh'\n",
      " 'Madhya Pradesh' 'Maharashtra' 'Manipur' 'Meghalaya' 'Mizoram' 'Nagaland'\n",
      " 'Odisha' 'Puducherry' 'Punjab' 'Rajasthan' 'Sikkim' 'Tamil Nadu'\n",
      " 'Tripura' 'Uttar Pradesh' 'Uttarakhand' 'West Bengal']\n",
      "\n",
      "Number of states where sales takes place  35\n"
     ]
    }
   ],
   "source": [
    "states=df_salebystate['state'].unique()\n",
    "states.sort()\n",
    "print(states)\n",
    "print(\"\\nNumber of states where sales takes place \",df_salebystate['state'].unique().size)"
   ]
  },
  {
   "cell_type": "code",
   "execution_count": 82,
   "metadata": {},
   "outputs": [],
   "source": [
    "df_salebystate['state'] = df_salebystate['state'] .replace('Andaman & Nicobar Island','Andaman & Nicobar')\n",
    "df_salebystate['state'] = df_salebystate['state'] .replace('Chandigarh','Haryana')"
   ]
  },
  {
   "cell_type": "code",
   "execution_count": 83,
   "metadata": {},
   "outputs": [
    {
     "name": "stdout",
     "output_type": "stream",
     "text": [
      "['Andaman & Nicobar' 'Andhra Pradesh' 'Arunachal Pradesh' 'Assam' 'Bihar'\n",
      " 'Chhattisgarh' 'DNH and DD' 'Delhi' 'Goa' 'Gujarat' 'Haryana'\n",
      " 'Himachal Pradesh' 'Jammu and Kashmir' 'Jharkhand' 'Karnataka' 'Kerala'\n",
      " 'Ladakh' 'Madhya Pradesh' 'Maharashtra' 'Manipur' 'Meghalaya' 'Mizoram'\n",
      " 'Nagaland' 'Odisha' 'Puducherry' 'Punjab' 'Rajasthan' 'Sikkim'\n",
      " 'Tamil Nadu' 'Tripura' 'Uttar Pradesh' 'Uttarakhand' 'West Bengal']\n",
      "\n",
      "Number of states where sales takes place  33\n"
     ]
    }
   ],
   "source": [
    "states=df_salebystate['state'].unique()\n",
    "states.sort()\n",
    "print(states)\n",
    "print(\"\\nNumber of states where sales takes place \",df_salebystate['state'].unique().size)"
   ]
  },
  {
   "cell_type": "markdown",
   "metadata": {},
   "source": [
    "***\n",
    "### ==> 3. Data Transformation\n",
    "***"
   ]
  },
  {
   "cell_type": "markdown",
   "metadata": {},
   "source": [
    "Create a Penetration Rate column"
   ]
  },
  {
   "cell_type": "code",
   "execution_count": 84,
   "metadata": {},
   "outputs": [],
   "source": [
    "df_salebystate['Penetration_Rate'] = ((df_salebystate['electric_vehicles_sold']/df_salebystate['total_vehicles_sold'])*100).round(2)"
   ]
  },
  {
   "cell_type": "code",
   "execution_count": 85,
   "metadata": {},
   "outputs": [
    {
     "data": {
      "text/html": [
       "<div>\n",
       "<style scoped>\n",
       "    .dataframe tbody tr th:only-of-type {\n",
       "        vertical-align: middle;\n",
       "    }\n",
       "\n",
       "    .dataframe tbody tr th {\n",
       "        vertical-align: top;\n",
       "    }\n",
       "\n",
       "    .dataframe thead th {\n",
       "        text-align: right;\n",
       "    }\n",
       "</style>\n",
       "<table border=\"1\" class=\"dataframe\">\n",
       "  <thead>\n",
       "    <tr style=\"text-align: right;\">\n",
       "      <th></th>\n",
       "      <th>date</th>\n",
       "      <th>state</th>\n",
       "      <th>vehicle_category</th>\n",
       "      <th>electric_vehicles_sold</th>\n",
       "      <th>total_vehicles_sold</th>\n",
       "      <th>Penetration_Rate</th>\n",
       "    </tr>\n",
       "  </thead>\n",
       "  <tbody>\n",
       "    <tr>\n",
       "      <th>2440</th>\n",
       "      <td>01-Mar-24</td>\n",
       "      <td>Mizoram</td>\n",
       "      <td>2-Wheelers</td>\n",
       "      <td>58</td>\n",
       "      <td>1932</td>\n",
       "      <td>3.00</td>\n",
       "    </tr>\n",
       "    <tr>\n",
       "      <th>2441</th>\n",
       "      <td>01-Mar-24</td>\n",
       "      <td>DNH and DD</td>\n",
       "      <td>2-Wheelers</td>\n",
       "      <td>25</td>\n",
       "      <td>780</td>\n",
       "      <td>3.21</td>\n",
       "    </tr>\n",
       "    <tr>\n",
       "      <th>2442</th>\n",
       "      <td>01-Mar-24</td>\n",
       "      <td>Manipur</td>\n",
       "      <td>2-Wheelers</td>\n",
       "      <td>13</td>\n",
       "      <td>1394</td>\n",
       "      <td>0.93</td>\n",
       "    </tr>\n",
       "    <tr>\n",
       "      <th>2443</th>\n",
       "      <td>01-Mar-24</td>\n",
       "      <td>Andaman &amp; Nicobar</td>\n",
       "      <td>2-Wheelers</td>\n",
       "      <td>2</td>\n",
       "      <td>447</td>\n",
       "      <td>0.45</td>\n",
       "    </tr>\n",
       "    <tr>\n",
       "      <th>2444</th>\n",
       "      <td>01-Mar-24</td>\n",
       "      <td>Nagaland</td>\n",
       "      <td>2-Wheelers</td>\n",
       "      <td>2</td>\n",
       "      <td>1180</td>\n",
       "      <td>0.17</td>\n",
       "    </tr>\n",
       "  </tbody>\n",
       "</table>\n",
       "</div>"
      ],
      "text/plain": [
       "           date              state vehicle_category  electric_vehicles_sold  \\\n",
       "2440  01-Mar-24            Mizoram       2-Wheelers                      58   \n",
       "2441  01-Mar-24         DNH and DD       2-Wheelers                      25   \n",
       "2442  01-Mar-24            Manipur       2-Wheelers                      13   \n",
       "2443  01-Mar-24  Andaman & Nicobar       2-Wheelers                       2   \n",
       "2444  01-Mar-24           Nagaland       2-Wheelers                       2   \n",
       "\n",
       "      total_vehicles_sold  Penetration_Rate  \n",
       "2440                 1932              3.00  \n",
       "2441                  780              3.21  \n",
       "2442                 1394              0.93  \n",
       "2443                  447              0.45  \n",
       "2444                 1180              0.17  "
      ]
     },
     "execution_count": 85,
     "metadata": {},
     "output_type": "execute_result"
    }
   ],
   "source": [
    "df_salebystate.tail()"
   ]
  },
  {
   "cell_type": "code",
   "execution_count": 86,
   "metadata": {},
   "outputs": [
    {
     "data": {
      "text/html": [
       "<div>\n",
       "<style scoped>\n",
       "    .dataframe tbody tr th:only-of-type {\n",
       "        vertical-align: middle;\n",
       "    }\n",
       "\n",
       "    .dataframe tbody tr th {\n",
       "        vertical-align: top;\n",
       "    }\n",
       "\n",
       "    .dataframe thead th {\n",
       "        text-align: right;\n",
       "    }\n",
       "</style>\n",
       "<table border=\"1\" class=\"dataframe\">\n",
       "  <thead>\n",
       "    <tr style=\"text-align: right;\">\n",
       "      <th></th>\n",
       "      <th>date</th>\n",
       "      <th>vehicle_category</th>\n",
       "      <th>maker</th>\n",
       "      <th>electric_vehicles_sold</th>\n",
       "      <th>fiscal_year</th>\n",
       "      <th>quarter</th>\n",
       "    </tr>\n",
       "  </thead>\n",
       "  <tbody>\n",
       "    <tr>\n",
       "      <th>0</th>\n",
       "      <td>01-Apr-21</td>\n",
       "      <td>2-Wheelers</td>\n",
       "      <td>OLA ELECTRIC</td>\n",
       "      <td>0</td>\n",
       "      <td>2022</td>\n",
       "      <td>Q1</td>\n",
       "    </tr>\n",
       "    <tr>\n",
       "      <th>1</th>\n",
       "      <td>01-Apr-22</td>\n",
       "      <td>2-Wheelers</td>\n",
       "      <td>OKAYA EV</td>\n",
       "      <td>0</td>\n",
       "      <td>2023</td>\n",
       "      <td>Q1</td>\n",
       "    </tr>\n",
       "    <tr>\n",
       "      <th>2</th>\n",
       "      <td>01-May-21</td>\n",
       "      <td>2-Wheelers</td>\n",
       "      <td>OLA ELECTRIC</td>\n",
       "      <td>0</td>\n",
       "      <td>2022</td>\n",
       "      <td>Q1</td>\n",
       "    </tr>\n",
       "    <tr>\n",
       "      <th>3</th>\n",
       "      <td>01-Jun-21</td>\n",
       "      <td>2-Wheelers</td>\n",
       "      <td>OLA ELECTRIC</td>\n",
       "      <td>0</td>\n",
       "      <td>2022</td>\n",
       "      <td>Q1</td>\n",
       "    </tr>\n",
       "    <tr>\n",
       "      <th>4</th>\n",
       "      <td>01-Jul-21</td>\n",
       "      <td>2-Wheelers</td>\n",
       "      <td>OLA ELECTRIC</td>\n",
       "      <td>0</td>\n",
       "      <td>2022</td>\n",
       "      <td>Q2</td>\n",
       "    </tr>\n",
       "  </tbody>\n",
       "</table>\n",
       "</div>"
      ],
      "text/plain": [
       "        date vehicle_category         maker  electric_vehicles_sold  \\\n",
       "0  01-Apr-21       2-Wheelers  OLA ELECTRIC                       0   \n",
       "1  01-Apr-22       2-Wheelers      OKAYA EV                       0   \n",
       "2  01-May-21       2-Wheelers  OLA ELECTRIC                       0   \n",
       "3  01-Jun-21       2-Wheelers  OLA ELECTRIC                       0   \n",
       "4  01-Jul-21       2-Wheelers  OLA ELECTRIC                       0   \n",
       "\n",
       "   fiscal_year quarter  \n",
       "0         2022      Q1  \n",
       "1         2023      Q1  \n",
       "2         2022      Q1  \n",
       "3         2022      Q1  \n",
       "4         2022      Q2  "
      ]
     },
     "execution_count": 86,
     "metadata": {},
     "output_type": "execute_result"
    }
   ],
   "source": [
    "df_salebymakerwithdate = df_salebymaker.merge(df_dimdate,how='inner',on='date')  #Combining Date dataframe and sales by maker to know the fyscal year\n",
    "df_salebymakerwithdate.head()"
   ]
  },
  {
   "cell_type": "code",
   "execution_count": 87,
   "metadata": {},
   "outputs": [],
   "source": [
    "df_salebystatewithdate = df_salebystate.merge(df_dimdate,how='inner',on='date') # Combining Date dataframe and sales by state to know the fyscal year"
   ]
  },
  {
   "cell_type": "markdown",
   "metadata": {},
   "source": [
    "***\n",
    "### ==> 4. Insights Generation\n",
    "***"
   ]
  },
  {
   "cell_type": "markdown",
   "metadata": {},
   "source": [
    "### 1. List the top 3 and bottom 3 makers for the fiscal years 2023 and 2024 in terms of the number of 2-wheelers sold."
   ]
  },
  {
   "cell_type": "code",
   "execution_count": 88,
   "metadata": {},
   "outputs": [
    {
     "data": {
      "text/html": [
       "<div>\n",
       "<style scoped>\n",
       "    .dataframe tbody tr th:only-of-type {\n",
       "        vertical-align: middle;\n",
       "    }\n",
       "\n",
       "    .dataframe tbody tr th {\n",
       "        vertical-align: top;\n",
       "    }\n",
       "\n",
       "    .dataframe thead th {\n",
       "        text-align: right;\n",
       "    }\n",
       "</style>\n",
       "<table border=\"1\" class=\"dataframe\">\n",
       "  <thead>\n",
       "    <tr style=\"text-align: right;\">\n",
       "      <th></th>\n",
       "      <th>date</th>\n",
       "      <th>vehicle_category</th>\n",
       "      <th>maker</th>\n",
       "      <th>electric_vehicles_sold</th>\n",
       "      <th>fiscal_year</th>\n",
       "      <th>quarter</th>\n",
       "    </tr>\n",
       "  </thead>\n",
       "  <tbody>\n",
       "    <tr>\n",
       "      <th>0</th>\n",
       "      <td>01-Apr-21</td>\n",
       "      <td>2-Wheelers</td>\n",
       "      <td>OLA ELECTRIC</td>\n",
       "      <td>0</td>\n",
       "      <td>2022</td>\n",
       "      <td>Q1</td>\n",
       "    </tr>\n",
       "    <tr>\n",
       "      <th>1</th>\n",
       "      <td>01-Apr-22</td>\n",
       "      <td>2-Wheelers</td>\n",
       "      <td>OKAYA EV</td>\n",
       "      <td>0</td>\n",
       "      <td>2023</td>\n",
       "      <td>Q1</td>\n",
       "    </tr>\n",
       "    <tr>\n",
       "      <th>2</th>\n",
       "      <td>01-May-21</td>\n",
       "      <td>2-Wheelers</td>\n",
       "      <td>OLA ELECTRIC</td>\n",
       "      <td>0</td>\n",
       "      <td>2022</td>\n",
       "      <td>Q1</td>\n",
       "    </tr>\n",
       "    <tr>\n",
       "      <th>3</th>\n",
       "      <td>01-Jun-21</td>\n",
       "      <td>2-Wheelers</td>\n",
       "      <td>OLA ELECTRIC</td>\n",
       "      <td>0</td>\n",
       "      <td>2022</td>\n",
       "      <td>Q1</td>\n",
       "    </tr>\n",
       "    <tr>\n",
       "      <th>4</th>\n",
       "      <td>01-Jul-21</td>\n",
       "      <td>2-Wheelers</td>\n",
       "      <td>OLA ELECTRIC</td>\n",
       "      <td>0</td>\n",
       "      <td>2022</td>\n",
       "      <td>Q2</td>\n",
       "    </tr>\n",
       "  </tbody>\n",
       "</table>\n",
       "</div>"
      ],
      "text/plain": [
       "        date vehicle_category         maker  electric_vehicles_sold  \\\n",
       "0  01-Apr-21       2-Wheelers  OLA ELECTRIC                       0   \n",
       "1  01-Apr-22       2-Wheelers      OKAYA EV                       0   \n",
       "2  01-May-21       2-Wheelers  OLA ELECTRIC                       0   \n",
       "3  01-Jun-21       2-Wheelers  OLA ELECTRIC                       0   \n",
       "4  01-Jul-21       2-Wheelers  OLA ELECTRIC                       0   \n",
       "\n",
       "   fiscal_year quarter  \n",
       "0         2022      Q1  \n",
       "1         2023      Q1  \n",
       "2         2022      Q1  \n",
       "3         2022      Q1  \n",
       "4         2022      Q2  "
      ]
     },
     "execution_count": 88,
     "metadata": {},
     "output_type": "execute_result"
    }
   ],
   "source": [
    "df_salebymakerwithdate.head()"
   ]
  },
  {
   "cell_type": "code",
   "execution_count": 89,
   "metadata": {},
   "outputs": [
    {
     "name": "stdout",
     "output_type": "stream",
     "text": [
      "<class 'pandas.core.frame.DataFrame'>\n",
      "RangeIndex: 816 entries, 0 to 815\n",
      "Data columns (total 6 columns):\n",
      " #   Column                  Non-Null Count  Dtype \n",
      "---  ------                  --------------  ----- \n",
      " 0   date                    816 non-null    object\n",
      " 1   vehicle_category        816 non-null    object\n",
      " 2   maker                   816 non-null    object\n",
      " 3   electric_vehicles_sold  816 non-null    int64 \n",
      " 4   fiscal_year             816 non-null    int64 \n",
      " 5   quarter                 816 non-null    object\n",
      "dtypes: int64(2), object(4)\n",
      "memory usage: 38.4+ KB\n"
     ]
    }
   ],
   "source": [
    "df_salebymakerwithdate.info()"
   ]
  },
  {
   "cell_type": "code",
   "execution_count": 90,
   "metadata": {},
   "outputs": [
    {
     "data": {
      "text/plain": [
       "array(['2-Wheelers', '4-Wheelers'], dtype=object)"
      ]
     },
     "execution_count": 90,
     "metadata": {},
     "output_type": "execute_result"
    }
   ],
   "source": [
    "df_salebymaker.vehicle_category.unique()"
   ]
  },
  {
   "cell_type": "markdown",
   "metadata": {},
   "source": [
    "Storing data on 2-wheelers sold in the fiscal years 2023 and 2024."
   ]
  },
  {
   "cell_type": "code",
   "execution_count": 91,
   "metadata": {},
   "outputs": [
    {
     "data": {
      "text/html": [
       "<div>\n",
       "<style scoped>\n",
       "    .dataframe tbody tr th:only-of-type {\n",
       "        vertical-align: middle;\n",
       "    }\n",
       "\n",
       "    .dataframe tbody tr th {\n",
       "        vertical-align: top;\n",
       "    }\n",
       "\n",
       "    .dataframe thead th {\n",
       "        text-align: right;\n",
       "    }\n",
       "</style>\n",
       "<table border=\"1\" class=\"dataframe\">\n",
       "  <thead>\n",
       "    <tr style=\"text-align: right;\">\n",
       "      <th></th>\n",
       "      <th>date</th>\n",
       "      <th>vehicle_category</th>\n",
       "      <th>maker</th>\n",
       "      <th>electric_vehicles_sold</th>\n",
       "      <th>fiscal_year</th>\n",
       "      <th>quarter</th>\n",
       "    </tr>\n",
       "  </thead>\n",
       "  <tbody>\n",
       "    <tr>\n",
       "      <th>1</th>\n",
       "      <td>01-Apr-22</td>\n",
       "      <td>2-Wheelers</td>\n",
       "      <td>OKAYA EV</td>\n",
       "      <td>0</td>\n",
       "      <td>2023</td>\n",
       "      <td>Q1</td>\n",
       "    </tr>\n",
       "    <tr>\n",
       "      <th>100</th>\n",
       "      <td>01-Apr-23</td>\n",
       "      <td>4-Wheelers</td>\n",
       "      <td>Tata Motors</td>\n",
       "      <td>364</td>\n",
       "      <td>2024</td>\n",
       "      <td>Q1</td>\n",
       "    </tr>\n",
       "    <tr>\n",
       "      <th>101</th>\n",
       "      <td>01-Apr-23</td>\n",
       "      <td>4-Wheelers</td>\n",
       "      <td>MG Motor</td>\n",
       "      <td>265</td>\n",
       "      <td>2024</td>\n",
       "      <td>Q1</td>\n",
       "    </tr>\n",
       "    <tr>\n",
       "      <th>102</th>\n",
       "      <td>01-Apr-23</td>\n",
       "      <td>4-Wheelers</td>\n",
       "      <td>Mahindra &amp; Mahindra</td>\n",
       "      <td>4880</td>\n",
       "      <td>2024</td>\n",
       "      <td>Q1</td>\n",
       "    </tr>\n",
       "    <tr>\n",
       "      <th>103</th>\n",
       "      <td>01-Apr-23</td>\n",
       "      <td>4-Wheelers</td>\n",
       "      <td>BYD India</td>\n",
       "      <td>156</td>\n",
       "      <td>2024</td>\n",
       "      <td>Q1</td>\n",
       "    </tr>\n",
       "    <tr>\n",
       "      <th>104</th>\n",
       "      <td>01-Apr-23</td>\n",
       "      <td>4-Wheelers</td>\n",
       "      <td>Hyundai Motor</td>\n",
       "      <td>42</td>\n",
       "      <td>2024</td>\n",
       "      <td>Q1</td>\n",
       "    </tr>\n",
       "    <tr>\n",
       "      <th>105</th>\n",
       "      <td>01-Apr-23</td>\n",
       "      <td>4-Wheelers</td>\n",
       "      <td>PCA Automobiles</td>\n",
       "      <td>181</td>\n",
       "      <td>2024</td>\n",
       "      <td>Q1</td>\n",
       "    </tr>\n",
       "    <tr>\n",
       "      <th>106</th>\n",
       "      <td>01-Apr-23</td>\n",
       "      <td>4-Wheelers</td>\n",
       "      <td>BMW India</td>\n",
       "      <td>51</td>\n",
       "      <td>2024</td>\n",
       "      <td>Q1</td>\n",
       "    </tr>\n",
       "    <tr>\n",
       "      <th>107</th>\n",
       "      <td>01-Apr-23</td>\n",
       "      <td>4-Wheelers</td>\n",
       "      <td>Mercedes -Benz AG</td>\n",
       "      <td>8</td>\n",
       "      <td>2024</td>\n",
       "      <td>Q1</td>\n",
       "    </tr>\n",
       "    <tr>\n",
       "      <th>108</th>\n",
       "      <td>01-Apr-23</td>\n",
       "      <td>4-Wheelers</td>\n",
       "      <td>Volvo Auto India</td>\n",
       "      <td>27</td>\n",
       "      <td>2024</td>\n",
       "      <td>Q1</td>\n",
       "    </tr>\n",
       "  </tbody>\n",
       "</table>\n",
       "</div>"
      ],
      "text/plain": [
       "          date vehicle_category                maker  electric_vehicles_sold  \\\n",
       "1    01-Apr-22       2-Wheelers             OKAYA EV                       0   \n",
       "100  01-Apr-23       4-Wheelers          Tata Motors                     364   \n",
       "101  01-Apr-23       4-Wheelers             MG Motor                     265   \n",
       "102  01-Apr-23       4-Wheelers  Mahindra & Mahindra                    4880   \n",
       "103  01-Apr-23       4-Wheelers            BYD India                     156   \n",
       "104  01-Apr-23       4-Wheelers        Hyundai Motor                      42   \n",
       "105  01-Apr-23       4-Wheelers      PCA Automobiles                     181   \n",
       "106  01-Apr-23       4-Wheelers            BMW India                      51   \n",
       "107  01-Apr-23       4-Wheelers    Mercedes -Benz AG                       8   \n",
       "108  01-Apr-23       4-Wheelers     Volvo Auto India                      27   \n",
       "\n",
       "     fiscal_year quarter  \n",
       "1           2023      Q1  \n",
       "100         2024      Q1  \n",
       "101         2024      Q1  \n",
       "102         2024      Q1  \n",
       "103         2024      Q1  \n",
       "104         2024      Q1  \n",
       "105         2024      Q1  \n",
       "106         2024      Q1  \n",
       "107         2024      Q1  \n",
       "108         2024      Q1  "
      ]
     },
     "execution_count": 91,
     "metadata": {},
     "output_type": "execute_result"
    }
   ],
   "source": [
    "df_2wheelers_sold=df_salebymakerwithdate[(df_salebymakerwithdate['vehicle_category']=='2-Wheelers') & (df_salebymakerwithdate['fiscal_year'] == 2023) | (df_salebymakerwithdate['fiscal_year'] == 2024) ]\n",
    "df_2wheelers_sold.head(10)"
   ]
  },
  {
   "cell_type": "code",
   "execution_count": 92,
   "metadata": {},
   "outputs": [],
   "source": [
    "#Grouping based on fyscal year and maker company\n",
    "df_highest_evsold=pd.DataFrame(df_2wheelers_sold.groupby(['fiscal_year','maker'],group_keys=False)['electric_vehicles_sold'].sum())\n",
    "df_highest_evsold=df_highest_evsold.sort_values(by=['fiscal_year','electric_vehicles_sold']).reset_index()"
   ]
  },
  {
   "cell_type": "code",
   "execution_count": 93,
   "metadata": {},
   "outputs": [
    {
     "data": {
      "text/html": [
       "<div>\n",
       "<style scoped>\n",
       "    .dataframe tbody tr th:only-of-type {\n",
       "        vertical-align: middle;\n",
       "    }\n",
       "\n",
       "    .dataframe tbody tr th {\n",
       "        vertical-align: top;\n",
       "    }\n",
       "\n",
       "    .dataframe thead th {\n",
       "        text-align: right;\n",
       "    }\n",
       "</style>\n",
       "<table border=\"1\" class=\"dataframe\">\n",
       "  <thead>\n",
       "    <tr style=\"text-align: right;\">\n",
       "      <th></th>\n",
       "      <th>fiscal_year</th>\n",
       "      <th>maker</th>\n",
       "      <th>electric_vehicles_sold</th>\n",
       "    </tr>\n",
       "  </thead>\n",
       "  <tbody>\n",
       "    <tr>\n",
       "      <th>0</th>\n",
       "      <td>2023</td>\n",
       "      <td>JITENDRA</td>\n",
       "      <td>8563</td>\n",
       "    </tr>\n",
       "    <tr>\n",
       "      <th>1</th>\n",
       "      <td>2023</td>\n",
       "      <td>BEING</td>\n",
       "      <td>11018</td>\n",
       "    </tr>\n",
       "    <tr>\n",
       "      <th>2</th>\n",
       "      <td>2023</td>\n",
       "      <td>PURE EV</td>\n",
       "      <td>11556</td>\n",
       "    </tr>\n",
       "    <tr>\n",
       "      <th>3</th>\n",
       "      <td>2023</td>\n",
       "      <td>REVOLT</td>\n",
       "      <td>12933</td>\n",
       "    </tr>\n",
       "    <tr>\n",
       "      <th>4</th>\n",
       "      <td>2023</td>\n",
       "      <td>OKAYA EV</td>\n",
       "      <td>13172</td>\n",
       "    </tr>\n",
       "  </tbody>\n",
       "</table>\n",
       "</div>"
      ],
      "text/plain": [
       "   fiscal_year     maker  electric_vehicles_sold\n",
       "0         2023  JITENDRA                    8563\n",
       "1         2023     BEING                   11018\n",
       "2         2023   PURE EV                   11556\n",
       "3         2023    REVOLT                   12933\n",
       "4         2023  OKAYA EV                   13172"
      ]
     },
     "execution_count": 93,
     "metadata": {},
     "output_type": "execute_result"
    }
   ],
   "source": [
    "df_highest_evsold.head()"
   ]
  },
  {
   "cell_type": "code",
   "execution_count": 94,
   "metadata": {},
   "outputs": [
    {
     "name": "stderr",
     "output_type": "stream",
     "text": [
      "C:\\Users\\HP\\AppData\\Local\\Temp\\ipykernel_13592\\3996918980.py:14: FutureWarning: \n",
      "\n",
      "Passing `palette` without assigning `hue` is deprecated and will be removed in v0.14.0. Assign the `y` variable to `hue` and set `legend=False` for the same effect.\n",
      "\n",
      "  sns.barplot(x='electric_vehicles_sold', y='maker', data=data_year, palette='Set2')\n",
      "C:\\Users\\HP\\AppData\\Local\\Temp\\ipykernel_13592\\3996918980.py:14: FutureWarning: \n",
      "\n",
      "Passing `palette` without assigning `hue` is deprecated and will be removed in v0.14.0. Assign the `y` variable to `hue` and set `legend=False` for the same effect.\n",
      "\n",
      "  sns.barplot(x='electric_vehicles_sold', y='maker', data=data_year, palette='Set2')\n"
     ]
    },
    {
     "data": {
      "image/png": "[encoded data removed]",
      "text/plain": [
       "<Figure size 1400x1000 with 2 Axes>"
      ]
     },
     "metadata": {},
     "output_type": "display_data"
    }
   ],
   "source": [
    "# Create the figure and axes\n",
    "plt.figure(figsize=(14, 10))\n",
    "\n",
    "# Separate subplots for each fiscal year\n",
    "years = df_highest_evsold['fiscal_year'].unique()\n",
    "for i, year in enumerate(years):\n",
    "    # Create a subset of data for each fiscal year\n",
    "    data_year = df_highest_evsold[df_highest_evsold['fiscal_year'] == year]\n",
    "    \n",
    "    # Subplot for each year\n",
    "    plt.subplot(len(years), 1, i + 1)\n",
    "    \n",
    "    # Horizontal bar plot\n",
    "    sns.barplot(x='electric_vehicles_sold', y='maker', data=data_year, palette='Set2')\n",
    "    \n",
    "    # Add data labels\n",
    "    for index, value in enumerate(data_year['electric_vehicles_sold']):\n",
    "        plt.text(value, index, f'{value:,}', va='center')\n",
    "\n",
    "    # Titles and labels\n",
    "    plt.title(f'Electric Vehicles Sold in Fiscal Year {year}', fontsize=14)\n",
    "    plt.xlabel('Number of Electric Vehicles Sold')\n",
    "    plt.ylabel('Maker')\n",
    "\n",
    "# Adjust layout for better spacing\n",
    "plt.tight_layout()\n",
    "plt.show()"
   ]
  },
  {
   "cell_type": "markdown",
   "metadata": {},
   "source": [
    "### 2. Identify the top 5 states with the highest penetration rate in 2-wheeler and 4-wheeler EV sales in FY 2024."
   ]
  },
  {
   "cell_type": "code",
   "execution_count": 95,
   "metadata": {},
   "outputs": [
    {
     "data": {
      "text/html": [
       "<div>\n",
       "<style scoped>\n",
       "    .dataframe tbody tr th:only-of-type {\n",
       "        vertical-align: middle;\n",
       "    }\n",
       "\n",
       "    .dataframe tbody tr th {\n",
       "        vertical-align: top;\n",
       "    }\n",
       "\n",
       "    .dataframe thead th {\n",
       "        text-align: right;\n",
       "    }\n",
       "</style>\n",
       "<table border=\"1\" class=\"dataframe\">\n",
       "  <thead>\n",
       "    <tr style=\"text-align: right;\">\n",
       "      <th></th>\n",
       "      <th>date</th>\n",
       "      <th>state</th>\n",
       "      <th>vehicle_category</th>\n",
       "      <th>electric_vehicles_sold</th>\n",
       "      <th>total_vehicles_sold</th>\n",
       "      <th>Penetration_Rate</th>\n",
       "      <th>fiscal_year</th>\n",
       "      <th>quarter</th>\n",
       "    </tr>\n",
       "  </thead>\n",
       "  <tbody>\n",
       "    <tr>\n",
       "      <th>0</th>\n",
       "      <td>01-Apr-21</td>\n",
       "      <td>Sikkim</td>\n",
       "      <td>2-Wheelers</td>\n",
       "      <td>0</td>\n",
       "      <td>398</td>\n",
       "      <td>0.0</td>\n",
       "      <td>2022</td>\n",
       "      <td>Q1</td>\n",
       "    </tr>\n",
       "    <tr>\n",
       "      <th>1</th>\n",
       "      <td>01-Apr-21</td>\n",
       "      <td>Sikkim</td>\n",
       "      <td>4-Wheelers</td>\n",
       "      <td>0</td>\n",
       "      <td>361</td>\n",
       "      <td>0.0</td>\n",
       "      <td>2022</td>\n",
       "      <td>Q1</td>\n",
       "    </tr>\n",
       "    <tr>\n",
       "      <th>2</th>\n",
       "      <td>01-May-21</td>\n",
       "      <td>Sikkim</td>\n",
       "      <td>2-Wheelers</td>\n",
       "      <td>0</td>\n",
       "      <td>113</td>\n",
       "      <td>0.0</td>\n",
       "      <td>2022</td>\n",
       "      <td>Q1</td>\n",
       "    </tr>\n",
       "    <tr>\n",
       "      <th>3</th>\n",
       "      <td>01-May-21</td>\n",
       "      <td>Sikkim</td>\n",
       "      <td>4-Wheelers</td>\n",
       "      <td>0</td>\n",
       "      <td>98</td>\n",
       "      <td>0.0</td>\n",
       "      <td>2022</td>\n",
       "      <td>Q1</td>\n",
       "    </tr>\n",
       "    <tr>\n",
       "      <th>4</th>\n",
       "      <td>01-Jun-21</td>\n",
       "      <td>Sikkim</td>\n",
       "      <td>2-Wheelers</td>\n",
       "      <td>0</td>\n",
       "      <td>229</td>\n",
       "      <td>0.0</td>\n",
       "      <td>2022</td>\n",
       "      <td>Q1</td>\n",
       "    </tr>\n",
       "  </tbody>\n",
       "</table>\n",
       "</div>"
      ],
      "text/plain": [
       "        date   state vehicle_category  electric_vehicles_sold  \\\n",
       "0  01-Apr-21  Sikkim       2-Wheelers                       0   \n",
       "1  01-Apr-21  Sikkim       4-Wheelers                       0   \n",
       "2  01-May-21  Sikkim       2-Wheelers                       0   \n",
       "3  01-May-21  Sikkim       4-Wheelers                       0   \n",
       "4  01-Jun-21  Sikkim       2-Wheelers                       0   \n",
       "\n",
       "   total_vehicles_sold  Penetration_Rate  fiscal_year quarter  \n",
       "0                  398               0.0         2022      Q1  \n",
       "1                  361               0.0         2022      Q1  \n",
       "2                  113               0.0         2022      Q1  \n",
       "3                   98               0.0         2022      Q1  \n",
       "4                  229               0.0         2022      Q1  "
      ]
     },
     "execution_count": 95,
     "metadata": {},
     "output_type": "execute_result"
    }
   ],
   "source": [
    "df_salebystatewithdate.head()"
   ]
  },
  {
   "cell_type": "code",
   "execution_count": 96,
   "metadata": {},
   "outputs": [
    {
     "data": {
      "text/plain": [
       "33"
      ]
     },
     "execution_count": 96,
     "metadata": {},
     "output_type": "execute_result"
    }
   ],
   "source": [
    "df_salebystatewithdate.state.unique().size"
   ]
  },
  {
   "cell_type": "code",
   "execution_count": 97,
   "metadata": {},
   "outputs": [
    {
     "data": {
      "text/html": [
       "<div>\n",
       "<style scoped>\n",
       "    .dataframe tbody tr th:only-of-type {\n",
       "        vertical-align: middle;\n",
       "    }\n",
       "\n",
       "    .dataframe tbody tr th {\n",
       "        vertical-align: top;\n",
       "    }\n",
       "\n",
       "    .dataframe thead th {\n",
       "        text-align: right;\n",
       "    }\n",
       "</style>\n",
       "<table border=\"1\" class=\"dataframe\">\n",
       "  <thead>\n",
       "    <tr style=\"text-align: right;\">\n",
       "      <th></th>\n",
       "      <th>date</th>\n",
       "      <th>state</th>\n",
       "      <th>vehicle_category</th>\n",
       "      <th>electric_vehicles_sold</th>\n",
       "      <th>total_vehicles_sold</th>\n",
       "      <th>Penetration_Rate</th>\n",
       "      <th>fiscal_year</th>\n",
       "      <th>quarter</th>\n",
       "    </tr>\n",
       "  </thead>\n",
       "  <tbody>\n",
       "    <tr>\n",
       "      <th>48</th>\n",
       "      <td>01-Apr-23</td>\n",
       "      <td>Sikkim</td>\n",
       "      <td>2-Wheelers</td>\n",
       "      <td>0</td>\n",
       "      <td>465</td>\n",
       "      <td>0.0</td>\n",
       "      <td>2024</td>\n",
       "      <td>Q1</td>\n",
       "    </tr>\n",
       "    <tr>\n",
       "      <th>49</th>\n",
       "      <td>01-Apr-23</td>\n",
       "      <td>Sikkim</td>\n",
       "      <td>4-Wheelers</td>\n",
       "      <td>0</td>\n",
       "      <td>439</td>\n",
       "      <td>0.0</td>\n",
       "      <td>2024</td>\n",
       "      <td>Q1</td>\n",
       "    </tr>\n",
       "    <tr>\n",
       "      <th>50</th>\n",
       "      <td>01-May-23</td>\n",
       "      <td>Sikkim</td>\n",
       "      <td>2-Wheelers</td>\n",
       "      <td>0</td>\n",
       "      <td>507</td>\n",
       "      <td>0.0</td>\n",
       "      <td>2024</td>\n",
       "      <td>Q1</td>\n",
       "    </tr>\n",
       "    <tr>\n",
       "      <th>51</th>\n",
       "      <td>01-May-23</td>\n",
       "      <td>Sikkim</td>\n",
       "      <td>4-Wheelers</td>\n",
       "      <td>0</td>\n",
       "      <td>448</td>\n",
       "      <td>0.0</td>\n",
       "      <td>2024</td>\n",
       "      <td>Q1</td>\n",
       "    </tr>\n",
       "    <tr>\n",
       "      <th>52</th>\n",
       "      <td>01-Jun-23</td>\n",
       "      <td>Sikkim</td>\n",
       "      <td>2-Wheelers</td>\n",
       "      <td>0</td>\n",
       "      <td>517</td>\n",
       "      <td>0.0</td>\n",
       "      <td>2024</td>\n",
       "      <td>Q1</td>\n",
       "    </tr>\n",
       "    <tr>\n",
       "      <th>53</th>\n",
       "      <td>01-Jun-23</td>\n",
       "      <td>Sikkim</td>\n",
       "      <td>4-Wheelers</td>\n",
       "      <td>0</td>\n",
       "      <td>457</td>\n",
       "      <td>0.0</td>\n",
       "      <td>2024</td>\n",
       "      <td>Q1</td>\n",
       "    </tr>\n",
       "    <tr>\n",
       "      <th>54</th>\n",
       "      <td>01-Jul-23</td>\n",
       "      <td>Sikkim</td>\n",
       "      <td>2-Wheelers</td>\n",
       "      <td>0</td>\n",
       "      <td>423</td>\n",
       "      <td>0.0</td>\n",
       "      <td>2024</td>\n",
       "      <td>Q2</td>\n",
       "    </tr>\n",
       "    <tr>\n",
       "      <th>55</th>\n",
       "      <td>01-Jul-23</td>\n",
       "      <td>Sikkim</td>\n",
       "      <td>4-Wheelers</td>\n",
       "      <td>0</td>\n",
       "      <td>371</td>\n",
       "      <td>0.0</td>\n",
       "      <td>2024</td>\n",
       "      <td>Q2</td>\n",
       "    </tr>\n",
       "    <tr>\n",
       "      <th>56</th>\n",
       "      <td>01-Aug-23</td>\n",
       "      <td>Sikkim</td>\n",
       "      <td>2-Wheelers</td>\n",
       "      <td>0</td>\n",
       "      <td>465</td>\n",
       "      <td>0.0</td>\n",
       "      <td>2024</td>\n",
       "      <td>Q2</td>\n",
       "    </tr>\n",
       "    <tr>\n",
       "      <th>57</th>\n",
       "      <td>01-Aug-23</td>\n",
       "      <td>Sikkim</td>\n",
       "      <td>4-Wheelers</td>\n",
       "      <td>0</td>\n",
       "      <td>460</td>\n",
       "      <td>0.0</td>\n",
       "      <td>2024</td>\n",
       "      <td>Q2</td>\n",
       "    </tr>\n",
       "  </tbody>\n",
       "</table>\n",
       "</div>"
      ],
      "text/plain": [
       "         date   state vehicle_category  electric_vehicles_sold  \\\n",
       "48  01-Apr-23  Sikkim       2-Wheelers                       0   \n",
       "49  01-Apr-23  Sikkim       4-Wheelers                       0   \n",
       "50  01-May-23  Sikkim       2-Wheelers                       0   \n",
       "51  01-May-23  Sikkim       4-Wheelers                       0   \n",
       "52  01-Jun-23  Sikkim       2-Wheelers                       0   \n",
       "53  01-Jun-23  Sikkim       4-Wheelers                       0   \n",
       "54  01-Jul-23  Sikkim       2-Wheelers                       0   \n",
       "55  01-Jul-23  Sikkim       4-Wheelers                       0   \n",
       "56  01-Aug-23  Sikkim       2-Wheelers                       0   \n",
       "57  01-Aug-23  Sikkim       4-Wheelers                       0   \n",
       "\n",
       "    total_vehicles_sold  Penetration_Rate  fiscal_year quarter  \n",
       "48                  465               0.0         2024      Q1  \n",
       "49                  439               0.0         2024      Q1  \n",
       "50                  507               0.0         2024      Q1  \n",
       "51                  448               0.0         2024      Q1  \n",
       "52                  517               0.0         2024      Q1  \n",
       "53                  457               0.0         2024      Q1  \n",
       "54                  423               0.0         2024      Q2  \n",
       "55                  371               0.0         2024      Q2  \n",
       "56                  465               0.0         2024      Q2  \n",
       "57                  460               0.0         2024      Q2  "
      ]
     },
     "execution_count": 97,
     "metadata": {},
     "output_type": "execute_result"
    }
   ],
   "source": [
    "df_penetration_rate=df_salebystatewithdate[(df_salebystatewithdate['fiscal_year'] == 2024)]\n",
    "df_penetration_rate.head(10)"
   ]
  },
  {
   "cell_type": "code",
   "execution_count": 98,
   "metadata": {},
   "outputs": [
    {
     "data": {
      "text/html": [
       "<div>\n",
       "<style scoped>\n",
       "    .dataframe tbody tr th:only-of-type {\n",
       "        vertical-align: middle;\n",
       "    }\n",
       "\n",
       "    .dataframe tbody tr th {\n",
       "        vertical-align: top;\n",
       "    }\n",
       "\n",
       "    .dataframe thead th {\n",
       "        text-align: right;\n",
       "    }\n",
       "</style>\n",
       "<table border=\"1\" class=\"dataframe\">\n",
       "  <thead>\n",
       "    <tr style=\"text-align: right;\">\n",
       "      <th></th>\n",
       "      <th>vehicle_category</th>\n",
       "      <th>state</th>\n",
       "      <th>Penetration_Rate</th>\n",
       "    </tr>\n",
       "  </thead>\n",
       "  <tbody>\n",
       "    <tr>\n",
       "      <th>0</th>\n",
       "      <td>2-Wheelers</td>\n",
       "      <td>Sikkim</td>\n",
       "      <td>0.000000</td>\n",
       "    </tr>\n",
       "    <tr>\n",
       "      <th>1</th>\n",
       "      <td>4-Wheelers</td>\n",
       "      <td>Sikkim</td>\n",
       "      <td>0.000000</td>\n",
       "    </tr>\n",
       "    <tr>\n",
       "      <th>2</th>\n",
       "      <td>4-Wheelers</td>\n",
       "      <td>Mizoram</td>\n",
       "      <td>0.005278</td>\n",
       "    </tr>\n",
       "    <tr>\n",
       "      <th>3</th>\n",
       "      <td>2-Wheelers</td>\n",
       "      <td>Arunachal Pradesh</td>\n",
       "      <td>0.009444</td>\n",
       "    </tr>\n",
       "    <tr>\n",
       "      <th>4</th>\n",
       "      <td>4-Wheelers</td>\n",
       "      <td>Nagaland</td>\n",
       "      <td>0.014722</td>\n",
       "    </tr>\n",
       "  </tbody>\n",
       "</table>\n",
       "</div>"
      ],
      "text/plain": [
       "  vehicle_category              state  Penetration_Rate\n",
       "0       2-Wheelers             Sikkim          0.000000\n",
       "1       4-Wheelers             Sikkim          0.000000\n",
       "2       4-Wheelers            Mizoram          0.005278\n",
       "3       2-Wheelers  Arunachal Pradesh          0.009444\n",
       "4       4-Wheelers           Nagaland          0.014722"
      ]
     },
     "execution_count": 98,
     "metadata": {},
     "output_type": "execute_result"
    }
   ],
   "source": [
    "df_penetration_rate=pd.DataFrame(df_salebystatewithdate.groupby(['vehicle_category','state'],group_keys=False)['Penetration_Rate'].mean())\n",
    "df_penetration_rate=df_penetration_rate.sort_values(by='Penetration_Rate').reset_index()\n",
    "df_penetration_rate.head()"
   ]
  },
  {
   "cell_type": "code",
   "execution_count": 99,
   "metadata": {},
   "outputs": [
    {
     "data": {
      "text/html": [
       "<div>\n",
       "<style scoped>\n",
       "    .dataframe tbody tr th:only-of-type {\n",
       "        vertical-align: middle;\n",
       "    }\n",
       "\n",
       "    .dataframe tbody tr th {\n",
       "        vertical-align: top;\n",
       "    }\n",
       "\n",
       "    .dataframe thead th {\n",
       "        text-align: right;\n",
       "    }\n",
       "</style>\n",
       "<table border=\"1\" class=\"dataframe\">\n",
       "  <thead>\n",
       "    <tr style=\"text-align: right;\">\n",
       "      <th></th>\n",
       "      <th>GID_1</th>\n",
       "      <th>GID_0</th>\n",
       "      <th>COUNTRY</th>\n",
       "      <th>NAME_1</th>\n",
       "      <th>VARNAME_1</th>\n",
       "      <th>NL_NAME_1</th>\n",
       "      <th>TYPE_1</th>\n",
       "      <th>ENGTYPE_1</th>\n",
       "      <th>CC_1</th>\n",
       "      <th>HASC_1</th>\n",
       "      <th>ISO_1</th>\n",
       "      <th>geometry</th>\n",
       "    </tr>\n",
       "  </thead>\n",
       "  <tbody>\n",
       "    <tr>\n",
       "      <th>0</th>\n",
       "      <td>IND.1_1</td>\n",
       "      <td>IND</td>\n",
       "      <td>India</td>\n",
       "      <td>Andaman and Nicobar</td>\n",
       "      <td>Andaman &amp; Nicobar Islands|Andama</td>\n",
       "      <td>NA</td>\n",
       "      <td>Union Territor</td>\n",
       "      <td>Union Territory</td>\n",
       "      <td>NA</td>\n",
       "      <td>IN.AN</td>\n",
       "      <td>NA</td>\n",
       "      <td>MULTIPOLYGON (((93.79078 6.85139, 93.79092 6.8...</td>\n",
       "    </tr>\n",
       "    <tr>\n",
       "      <th>1</th>\n",
       "      <td>IND.2_1</td>\n",
       "      <td>IND</td>\n",
       "      <td>India</td>\n",
       "      <td>Andhra Pradesh</td>\n",
       "      <td>NA</td>\n",
       "      <td>NA</td>\n",
       "      <td>State</td>\n",
       "      <td>State</td>\n",
       "      <td>NA</td>\n",
       "      <td>IN.AP</td>\n",
       "      <td>IN-AP</td>\n",
       "      <td>MULTIPOLYGON (((78.73952 13.04549, 78.73218 13...</td>\n",
       "    </tr>\n",
       "    <tr>\n",
       "      <th>2</th>\n",
       "      <td>IND.3_1</td>\n",
       "      <td>IND</td>\n",
       "      <td>India</td>\n",
       "      <td>Arunachal Pradesh</td>\n",
       "      <td>Agence de la Frontière du Nord-E</td>\n",
       "      <td>NA</td>\n",
       "      <td>State</td>\n",
       "      <td>State</td>\n",
       "      <td>NA</td>\n",
       "      <td>IN.AR</td>\n",
       "      <td>IN-AR</td>\n",
       "      <td>POLYGON ((95.3683 27.10736, 95.37366 27.108, 9...</td>\n",
       "    </tr>\n",
       "  </tbody>\n",
       "</table>\n",
       "</div>"
      ],
      "text/plain": [
       "     GID_1 GID_0 COUNTRY               NAME_1  \\\n",
       "0  IND.1_1   IND   India  Andaman and Nicobar   \n",
       "1  IND.2_1   IND   India       Andhra Pradesh   \n",
       "2  IND.3_1   IND   India    Arunachal Pradesh   \n",
       "\n",
       "                          VARNAME_1 NL_NAME_1          TYPE_1  \\\n",
       "0  Andaman & Nicobar Islands|Andama        NA  Union Territor   \n",
       "1                                NA        NA           State   \n",
       "2  Agence de la Frontière du Nord-E        NA           State   \n",
       "\n",
       "         ENGTYPE_1 CC_1 HASC_1  ISO_1  \\\n",
       "0  Union Territory   NA  IN.AN     NA   \n",
       "1            State   NA  IN.AP  IN-AP   \n",
       "2            State   NA  IN.AR  IN-AR   \n",
       "\n",
       "                                            geometry  \n",
       "0  MULTIPOLYGON (((93.79078 6.85139, 93.79092 6.8...  \n",
       "1  MULTIPOLYGON (((78.73952 13.04549, 78.73218 13...  \n",
       "2  POLYGON ((95.3683 27.10736, 95.37366 27.108, 9...  "
      ]
     },
     "execution_count": 99,
     "metadata": {},
     "output_type": "execute_result"
    }
   ],
   "source": [
    "# Load India's state boundaries shapefile (You can download this from public sources) refer : https://www.linkedin.com/feed/update/urn:li:activity:7247991168561504256/\n",
    "\n",
    "india_states = gpd.read_file('map/gadm41_IND_1.shp')\n",
    "india_states.head(3)"
   ]
  },
  {
   "cell_type": "markdown",
   "metadata": {},
   "source": [
    "Visualizing the states in relation to their penetration rates."
   ]
  },
  {
   "cell_type": "code",
   "execution_count": 100,
   "metadata": {},
   "outputs": [
    {
     "data": {
      "image/png": "[encoded data removed]",
      "text/plain": [
       "<Figure size 2000x1000 with 4 Axes>"
      ]
     },
     "metadata": {},
     "output_type": "display_data"
    }
   ],
   "source": [
    "# Separate the data for 2-wheelers and 4-wheelers\n",
    "two_wheelers = df_penetration_rate[df_penetration_rate['vehicle_category'] == '2-Wheelers']\n",
    "four_wheelers = df_penetration_rate[df_penetration_rate['vehicle_category'] == '4-Wheelers']\n",
    "\n",
    "# Merge the data with the GeoDataFrame based on state\n",
    "two_wheelers_merged = india_states.merge(two_wheelers, left_on='NAME_1', right_on='state', how='left')\n",
    "four_wheelers_merged = india_states.merge(four_wheelers, left_on='NAME_1', right_on='state', how='left')\n",
    "\n",
    "# Create the plot for 2-Wheelers Penetration Rate\n",
    "fig, ax = plt.subplots(1, 2, figsize=(20, 10))\n",
    "\n",
    "two_wheelers_merged.plot(column='Penetration_Rate', cmap='Blues', linewidth=0.8, ax=ax[0], edgecolor='0.8', legend=True)\n",
    "ax[0].set_title('2-Wheelers Penetration Rate Across States')\n",
    "\n",
    "# Create the plot for 4-Wheelers Penetration Rate\n",
    "four_wheelers_merged.plot(column='Penetration_Rate', cmap='Oranges', linewidth=0.8, ax=ax[1], edgecolor='0.8', legend=True)\n",
    "ax[1].set_title('4-Wheelers Penetration Rate Across States')\n",
    "\n",
    "# Display the plots\n",
    "plt.show()\n"
   ]
  },
  {
   "cell_type": "markdown",
   "metadata": {},
   "source": [
    "Top 5 states which has higher penetration rates"
   ]
  },
  {
   "cell_type": "code",
   "execution_count": 101,
   "metadata": {},
   "outputs": [
    {
     "data": {
      "image/png": "[encoded data removed]",
      "text/plain": [
       "<Figure size 1000x600 with 1 Axes>"
      ]
     },
     "metadata": {},
     "output_type": "display_data"
    }
   ],
   "source": [
    "# For each state in the top 2-wheeler and 4-wheeler DataFrames, I added a suffix indicating the category ( (2W) for 2-wheelers and (4W) for 4-wheelers).\n",
    "# With these modifications, your bar chart will clearly indicate which penetration rates correspond to 2-wheelers and which correspond to 4-wheelers, \n",
    "# even if they are from the same states. This approach enhances the clarity of your visualization, making it easier for viewers to interpret the data.\n",
    "top_2_wheelers = df_penetration_rate[df_penetration_rate['vehicle_category'] == '2-Wheelers'].nlargest(5, 'Penetration_Rate')\n",
    "top_4_wheelers = df_penetration_rate[df_penetration_rate['vehicle_category'] == '4-Wheelers'].nlargest(5, 'Penetration_Rate')\n",
    "\n",
    "# Add suffix to states to differentiate them\n",
    "top_2_wheelers['state'] = top_2_wheelers['state'] + ' (2W)'\n",
    "top_4_wheelers['state'] = top_4_wheelers['state'] + ' (4W)'\n",
    "\n",
    "# Concatenate the two DataFrames\n",
    "top_states_combined = pd.concat([top_2_wheelers, top_4_wheelers])\n",
    "\n",
    "# Visualize\n",
    "plt.figure(figsize=(10, 6))\n",
    "bars = plt.bar(top_states_combined['state'], top_states_combined['Penetration_Rate'], color=['blue' if '2W' in x else 'orange' for x in top_states_combined['state']])\n",
    "\n",
    "# Adding labels and title\n",
    "plt.xlabel('States')\n",
    "plt.ylabel('Penetration Rate')\n",
    "plt.title('Top 5 States with Highest Penetration Rates in 2-Wheelers and 4-Wheelers (FY 2024)')\n",
    "plt.xticks(rotation=45)\n",
    "plt.legend(handles=[bars[0], bars[5]], labels=['2-Wheelers', '4-Wheelers'])\n",
    "\n",
    "# Display the plot\n",
    "plt.tight_layout()\n",
    "plt.show()"
   ]
  },
  {
   "cell_type": "markdown",
   "metadata": {},
   "source": [
    "### 3.Listing the states with negative penetration (decline) in EV sales from 2022 to 2024 "
   ]
  },
  {
   "cell_type": "code",
   "execution_count": 102,
   "metadata": {},
   "outputs": [
    {
     "data": {
      "text/plain": [
       "array([2022, 2023, 2024], dtype=int64)"
      ]
     },
     "execution_count": 102,
     "metadata": {},
     "output_type": "execute_result"
    }
   ],
   "source": [
    "df_salebystatewithdate.fiscal_year.unique()"
   ]
  },
  {
   "cell_type": "code",
   "execution_count": 103,
   "metadata": {},
   "outputs": [
    {
     "data": {
      "text/html": [
       "<div>\n",
       "<style scoped>\n",
       "    .dataframe tbody tr th:only-of-type {\n",
       "        vertical-align: middle;\n",
       "    }\n",
       "\n",
       "    .dataframe tbody tr th {\n",
       "        vertical-align: top;\n",
       "    }\n",
       "\n",
       "    .dataframe thead th {\n",
       "        text-align: right;\n",
       "    }\n",
       "</style>\n",
       "<table border=\"1\" class=\"dataframe\">\n",
       "  <thead>\n",
       "    <tr style=\"text-align: right;\">\n",
       "      <th></th>\n",
       "      <th>date</th>\n",
       "      <th>state</th>\n",
       "      <th>vehicle_category</th>\n",
       "      <th>electric_vehicles_sold</th>\n",
       "      <th>total_vehicles_sold</th>\n",
       "      <th>Penetration_Rate</th>\n",
       "      <th>fiscal_year</th>\n",
       "      <th>quarter</th>\n",
       "    </tr>\n",
       "  </thead>\n",
       "  <tbody>\n",
       "    <tr>\n",
       "      <th>0</th>\n",
       "      <td>01-Apr-21</td>\n",
       "      <td>Sikkim</td>\n",
       "      <td>2-Wheelers</td>\n",
       "      <td>0</td>\n",
       "      <td>398</td>\n",
       "      <td>0.0</td>\n",
       "      <td>2022</td>\n",
       "      <td>Q1</td>\n",
       "    </tr>\n",
       "    <tr>\n",
       "      <th>1</th>\n",
       "      <td>01-Apr-21</td>\n",
       "      <td>Sikkim</td>\n",
       "      <td>4-Wheelers</td>\n",
       "      <td>0</td>\n",
       "      <td>361</td>\n",
       "      <td>0.0</td>\n",
       "      <td>2022</td>\n",
       "      <td>Q1</td>\n",
       "    </tr>\n",
       "    <tr>\n",
       "      <th>2</th>\n",
       "      <td>01-May-21</td>\n",
       "      <td>Sikkim</td>\n",
       "      <td>2-Wheelers</td>\n",
       "      <td>0</td>\n",
       "      <td>113</td>\n",
       "      <td>0.0</td>\n",
       "      <td>2022</td>\n",
       "      <td>Q1</td>\n",
       "    </tr>\n",
       "    <tr>\n",
       "      <th>3</th>\n",
       "      <td>01-May-21</td>\n",
       "      <td>Sikkim</td>\n",
       "      <td>4-Wheelers</td>\n",
       "      <td>0</td>\n",
       "      <td>98</td>\n",
       "      <td>0.0</td>\n",
       "      <td>2022</td>\n",
       "      <td>Q1</td>\n",
       "    </tr>\n",
       "    <tr>\n",
       "      <th>4</th>\n",
       "      <td>01-Jun-21</td>\n",
       "      <td>Sikkim</td>\n",
       "      <td>2-Wheelers</td>\n",
       "      <td>0</td>\n",
       "      <td>229</td>\n",
       "      <td>0.0</td>\n",
       "      <td>2022</td>\n",
       "      <td>Q1</td>\n",
       "    </tr>\n",
       "  </tbody>\n",
       "</table>\n",
       "</div>"
      ],
      "text/plain": [
       "        date   state vehicle_category  electric_vehicles_sold  \\\n",
       "0  01-Apr-21  Sikkim       2-Wheelers                       0   \n",
       "1  01-Apr-21  Sikkim       4-Wheelers                       0   \n",
       "2  01-May-21  Sikkim       2-Wheelers                       0   \n",
       "3  01-May-21  Sikkim       4-Wheelers                       0   \n",
       "4  01-Jun-21  Sikkim       2-Wheelers                       0   \n",
       "\n",
       "   total_vehicles_sold  Penetration_Rate  fiscal_year quarter  \n",
       "0                  398               0.0         2022      Q1  \n",
       "1                  361               0.0         2022      Q1  \n",
       "2                  113               0.0         2022      Q1  \n",
       "3                   98               0.0         2022      Q1  \n",
       "4                  229               0.0         2022      Q1  "
      ]
     },
     "execution_count": 103,
     "metadata": {},
     "output_type": "execute_result"
    }
   ],
   "source": [
    "df_salebystatewithdate.head()"
   ]
  },
  {
   "cell_type": "code",
   "execution_count": 104,
   "metadata": {},
   "outputs": [
    {
     "data": {
      "text/html": [
       "<div>\n",
       "<style scoped>\n",
       "    .dataframe tbody tr th:only-of-type {\n",
       "        vertical-align: middle;\n",
       "    }\n",
       "\n",
       "    .dataframe tbody tr th {\n",
       "        vertical-align: top;\n",
       "    }\n",
       "\n",
       "    .dataframe thead th {\n",
       "        text-align: right;\n",
       "    }\n",
       "</style>\n",
       "<table border=\"1\" class=\"dataframe\">\n",
       "  <thead>\n",
       "    <tr style=\"text-align: right;\">\n",
       "      <th></th>\n",
       "      <th>state</th>\n",
       "      <th>fiscal_year</th>\n",
       "      <th>Penetration_Rate</th>\n",
       "    </tr>\n",
       "  </thead>\n",
       "  <tbody>\n",
       "    <tr>\n",
       "      <th>0</th>\n",
       "      <td>Andaman &amp; Nicobar</td>\n",
       "      <td>2022</td>\n",
       "      <td>0.648696</td>\n",
       "    </tr>\n",
       "    <tr>\n",
       "      <th>1</th>\n",
       "      <td>Andaman &amp; Nicobar</td>\n",
       "      <td>2023</td>\n",
       "      <td>0.312917</td>\n",
       "    </tr>\n",
       "    <tr>\n",
       "      <th>2</th>\n",
       "      <td>Andaman &amp; Nicobar</td>\n",
       "      <td>2024</td>\n",
       "      <td>0.560417</td>\n",
       "    </tr>\n",
       "    <tr>\n",
       "      <th>3</th>\n",
       "      <td>Andhra Pradesh</td>\n",
       "      <td>2022</td>\n",
       "      <td>1.280833</td>\n",
       "    </tr>\n",
       "    <tr>\n",
       "      <th>4</th>\n",
       "      <td>Andhra Pradesh</td>\n",
       "      <td>2023</td>\n",
       "      <td>2.901250</td>\n",
       "    </tr>\n",
       "  </tbody>\n",
       "</table>\n",
       "</div>"
      ],
      "text/plain": [
       "               state  fiscal_year  Penetration_Rate\n",
       "0  Andaman & Nicobar         2022          0.648696\n",
       "1  Andaman & Nicobar         2023          0.312917\n",
       "2  Andaman & Nicobar         2024          0.560417\n",
       "3     Andhra Pradesh         2022          1.280833\n",
       "4     Andhra Pradesh         2023          2.901250"
      ]
     },
     "execution_count": 104,
     "metadata": {},
     "output_type": "execute_result"
    }
   ],
   "source": [
    "df_for_negpenetration = df_salebystatewithdate.groupby(['state', 'fiscal_year'])['Penetration_Rate'].mean().reset_index()\n",
    "df_for_negpenetration.head()"
   ]
  },
  {
   "cell_type": "code",
   "execution_count": 105,
   "metadata": {},
   "outputs": [
    {
     "name": "stdout",
     "output_type": "stream",
     "text": [
      "fiscal_year            2022      2024    change\n",
      "state                                          \n",
      "Andaman & Nicobar  0.648696  0.560417 -0.088279\n",
      "Ladakh             2.638750  2.014583 -0.624167\n"
     ]
    }
   ],
   "source": [
    "df_for_negpenetration_chng = df_for_negpenetration[df_for_negpenetration['fiscal_year'] != 2023]\n",
    "\n",
    "# Pivot the table to have fiscal years as columns for easier comparison\n",
    "pivoted = df_for_negpenetration_chng.pivot(index='state', columns='fiscal_year', values='Penetration_Rate')\n",
    "\n",
    "# Calculate the change in penetration rate from 2022 to 2024\n",
    "pivoted['change'] = pivoted[2024] - pivoted[2022]\n",
    "\n",
    "\n",
    "# print(pivoted[2023])\n",
    "# Filter for states with negative changes\n",
    "negative_penetration = pivoted[pivoted['change'] < 0]\n",
    "# Display the result\n",
    "print(negative_penetration)"
   ]
  },
  {
   "cell_type": "markdown",
   "metadata": {},
   "source": [
    "### 4. The quarterly trends based on sales volume for the top 5 EV makers (4-wheelers) from 2022 to 2024"
   ]
  },
  {
   "cell_type": "code",
   "execution_count": 106,
   "metadata": {},
   "outputs": [
    {
     "data": {
      "text/html": [
       "<div>\n",
       "<style scoped>\n",
       "    .dataframe tbody tr th:only-of-type {\n",
       "        vertical-align: middle;\n",
       "    }\n",
       "\n",
       "    .dataframe tbody tr th {\n",
       "        vertical-align: top;\n",
       "    }\n",
       "\n",
       "    .dataframe thead th {\n",
       "        text-align: right;\n",
       "    }\n",
       "</style>\n",
       "<table border=\"1\" class=\"dataframe\">\n",
       "  <thead>\n",
       "    <tr style=\"text-align: right;\">\n",
       "      <th></th>\n",
       "      <th>date</th>\n",
       "      <th>vehicle_category</th>\n",
       "      <th>maker</th>\n",
       "      <th>electric_vehicles_sold</th>\n",
       "      <th>fiscal_year</th>\n",
       "      <th>quarter</th>\n",
       "    </tr>\n",
       "  </thead>\n",
       "  <tbody>\n",
       "    <tr>\n",
       "      <th>0</th>\n",
       "      <td>01-Apr-21</td>\n",
       "      <td>2-Wheelers</td>\n",
       "      <td>OLA ELECTRIC</td>\n",
       "      <td>0</td>\n",
       "      <td>2022</td>\n",
       "      <td>Q1</td>\n",
       "    </tr>\n",
       "    <tr>\n",
       "      <th>1</th>\n",
       "      <td>01-Apr-22</td>\n",
       "      <td>2-Wheelers</td>\n",
       "      <td>OKAYA EV</td>\n",
       "      <td>0</td>\n",
       "      <td>2023</td>\n",
       "      <td>Q1</td>\n",
       "    </tr>\n",
       "    <tr>\n",
       "      <th>2</th>\n",
       "      <td>01-May-21</td>\n",
       "      <td>2-Wheelers</td>\n",
       "      <td>OLA ELECTRIC</td>\n",
       "      <td>0</td>\n",
       "      <td>2022</td>\n",
       "      <td>Q1</td>\n",
       "    </tr>\n",
       "  </tbody>\n",
       "</table>\n",
       "</div>"
      ],
      "text/plain": [
       "        date vehicle_category         maker  electric_vehicles_sold  \\\n",
       "0  01-Apr-21       2-Wheelers  OLA ELECTRIC                       0   \n",
       "1  01-Apr-22       2-Wheelers      OKAYA EV                       0   \n",
       "2  01-May-21       2-Wheelers  OLA ELECTRIC                       0   \n",
       "\n",
       "   fiscal_year quarter  \n",
       "0         2022      Q1  \n",
       "1         2023      Q1  \n",
       "2         2022      Q1  "
      ]
     },
     "execution_count": 106,
     "metadata": {},
     "output_type": "execute_result"
    }
   ],
   "source": [
    "df_salebymakerwithdate.head(3)"
   ]
  },
  {
   "cell_type": "code",
   "execution_count": 107,
   "metadata": {},
   "outputs": [
    {
     "data": {
      "text/plain": [
       "array([2022, 2023, 2024], dtype=int64)"
      ]
     },
     "execution_count": 107,
     "metadata": {},
     "output_type": "execute_result"
    }
   ],
   "source": [
    "df_4wheeler_trends = df_salebymakerwithdate[df_salebymakerwithdate['vehicle_category'] == \"4-Wheelers\"]\n",
    "df_4wheeler_trends['fiscal_year'].unique()"
   ]
  },
  {
   "cell_type": "code",
   "execution_count": 108,
   "metadata": {},
   "outputs": [
    {
     "data": {
      "text/plain": [
       "['Tata Motors',\n",
       " 'Mahindra & Mahindra',\n",
       " 'MG Motor',\n",
       " 'BYD India',\n",
       " 'Hyundai Motor']"
      ]
     },
     "execution_count": 108,
     "metadata": {},
     "output_type": "execute_result"
    }
   ],
   "source": [
    "top_evmakers = df_4wheeler_trends.groupby('maker')['electric_vehicles_sold'].sum().reset_index()\n",
    "top_5evmaker=top_evmakers.nlargest(5,'electric_vehicles_sold')['maker'].tolist()\n",
    "top_5evmaker"
   ]
  },
  {
   "cell_type": "code",
   "execution_count": 109,
   "metadata": {},
   "outputs": [
    {
     "data": {
      "text/html": [
       "<div>\n",
       "<style scoped>\n",
       "    .dataframe tbody tr th:only-of-type {\n",
       "        vertical-align: middle;\n",
       "    }\n",
       "\n",
       "    .dataframe tbody tr th {\n",
       "        vertical-align: top;\n",
       "    }\n",
       "\n",
       "    .dataframe thead th {\n",
       "        text-align: right;\n",
       "    }\n",
       "</style>\n",
       "<table border=\"1\" class=\"dataframe\">\n",
       "  <thead>\n",
       "    <tr style=\"text-align: right;\">\n",
       "      <th></th>\n",
       "      <th>maker</th>\n",
       "      <th>fiscal_year</th>\n",
       "      <th>quarter</th>\n",
       "      <th>electric_vehicles_sold</th>\n",
       "    </tr>\n",
       "  </thead>\n",
       "  <tbody>\n",
       "    <tr>\n",
       "      <th>12</th>\n",
       "      <td>BYD India</td>\n",
       "      <td>2022</td>\n",
       "      <td>Q1</td>\n",
       "      <td>0</td>\n",
       "    </tr>\n",
       "    <tr>\n",
       "      <th>13</th>\n",
       "      <td>BYD India</td>\n",
       "      <td>2022</td>\n",
       "      <td>Q2</td>\n",
       "      <td>0</td>\n",
       "    </tr>\n",
       "    <tr>\n",
       "      <th>14</th>\n",
       "      <td>BYD India</td>\n",
       "      <td>2022</td>\n",
       "      <td>Q3</td>\n",
       "      <td>1</td>\n",
       "    </tr>\n",
       "    <tr>\n",
       "      <th>15</th>\n",
       "      <td>BYD India</td>\n",
       "      <td>2022</td>\n",
       "      <td>Q4</td>\n",
       "      <td>32</td>\n",
       "    </tr>\n",
       "    <tr>\n",
       "      <th>16</th>\n",
       "      <td>BYD India</td>\n",
       "      <td>2023</td>\n",
       "      <td>Q1</td>\n",
       "      <td>81</td>\n",
       "    </tr>\n",
       "  </tbody>\n",
       "</table>\n",
       "</div>"
      ],
      "text/plain": [
       "        maker  fiscal_year quarter  electric_vehicles_sold\n",
       "12  BYD India         2022      Q1                       0\n",
       "13  BYD India         2022      Q2                       0\n",
       "14  BYD India         2022      Q3                       1\n",
       "15  BYD India         2022      Q4                      32\n",
       "16  BYD India         2023      Q1                      81"
      ]
     },
     "execution_count": 109,
     "metadata": {},
     "output_type": "execute_result"
    }
   ],
   "source": [
    "# grouping_trends =df_4wheeler_trends.groupby(['maker','quarter'])['electric_vehicles_sold'].sum().reset_index()\n",
    "grouping_trends =df_4wheeler_trends.groupby(['maker','fiscal_year','quarter'])['electric_vehicles_sold'].sum().reset_index()\n",
    "grouping_trends = grouping_trends[grouping_trends['maker'].isin(top_5evmaker)]\n",
    "grouping_trends.head()"
   ]
  },
  {
   "cell_type": "code",
   "execution_count": 110,
   "metadata": {},
   "outputs": [
    {
     "name": "stderr",
     "output_type": "stream",
     "text": [
      "C:\\Users\\HP\\AppData\\Local\\Temp\\ipykernel_13592\\571863189.py:14: FutureWarning: \n",
      "\n",
      "The `ci` parameter is deprecated. Use `errorbar=None` for the same effect.\n",
      "\n",
      "  sns.barplot(x='electric_vehicles_sold', y='maker', data=data_year, palette='Set2',ci=None)\n",
      "C:\\Users\\HP\\AppData\\Local\\Temp\\ipykernel_13592\\571863189.py:14: FutureWarning: \n",
      "\n",
      "Passing `palette` without assigning `hue` is deprecated and will be removed in v0.14.0. Assign the `y` variable to `hue` and set `legend=False` for the same effect.\n",
      "\n",
      "  sns.barplot(x='electric_vehicles_sold', y='maker', data=data_year, palette='Set2',ci=None)\n",
      "C:\\Users\\HP\\AppData\\Local\\Temp\\ipykernel_13592\\571863189.py:14: FutureWarning: \n",
      "\n",
      "The `ci` parameter is deprecated. Use `errorbar=None` for the same effect.\n",
      "\n",
      "  sns.barplot(x='electric_vehicles_sold', y='maker', data=data_year, palette='Set2',ci=None)\n",
      "C:\\Users\\HP\\AppData\\Local\\Temp\\ipykernel_13592\\571863189.py:14: FutureWarning: \n",
      "\n",
      "Passing `palette` without assigning `hue` is deprecated and will be removed in v0.14.0. Assign the `y` variable to `hue` and set `legend=False` for the same effect.\n",
      "\n",
      "  sns.barplot(x='electric_vehicles_sold', y='maker', data=data_year, palette='Set2',ci=None)\n",
      "C:\\Users\\HP\\AppData\\Local\\Temp\\ipykernel_13592\\571863189.py:14: FutureWarning: \n",
      "\n",
      "The `ci` parameter is deprecated. Use `errorbar=None` for the same effect.\n",
      "\n",
      "  sns.barplot(x='electric_vehicles_sold', y='maker', data=data_year, palette='Set2',ci=None)\n",
      "C:\\Users\\HP\\AppData\\Local\\Temp\\ipykernel_13592\\571863189.py:14: FutureWarning: \n",
      "\n",
      "Passing `palette` without assigning `hue` is deprecated and will be removed in v0.14.0. Assign the `y` variable to `hue` and set `legend=False` for the same effect.\n",
      "\n",
      "  sns.barplot(x='electric_vehicles_sold', y='maker', data=data_year, palette='Set2',ci=None)\n"
     ]
    },
    {
     "data": {
      "image/png": "[encoded data removed]",
      "text/plain": [
       "<Figure size 1400x1000 with 3 Axes>"
      ]
     },
     "metadata": {},
     "output_type": "display_data"
    }
   ],
   "source": [
    "# Create the figure and axes\n",
    "plt.figure(figsize=(14, 10))\n",
    "\n",
    "# Separate subplots for each fiscal year\n",
    "years = grouping_trends['fiscal_year'].unique()\n",
    "for i, year in enumerate(years):\n",
    "    # Create a subset of data for each fiscal year\n",
    "    data_year = grouping_trends[grouping_trends['fiscal_year'] == year]\n",
    "    \n",
    "    # Subplot for each year\n",
    "    plt.subplot(len(years), 1, i + 1)\n",
    "    \n",
    "    # Horizontal bar plot\n",
    "    sns.barplot(x='electric_vehicles_sold', y='maker', data=data_year, palette='Set2',ci=None)\n",
    "    \n",
    "    # Titles and labels\n",
    "    plt.title(f'Electric Vehicles Sold in Fiscal Year {year}', fontsize=14)\n",
    "    plt.xlabel('Number of Electric Vehicles Sold')\n",
    "    plt.ylabel('Maker')\n",
    "\n",
    "# Adjust layout for better spacing\n",
    "plt.suptitle('Quarterly Sales Volume for Top 5 EV Makers (4-Wheelers) from 2022 to 2024',fontsize=18)\n",
    "plt.tight_layout(rect=[0, 0, 1, 0.95])\n",
    "plt.show()"
   ]
  },
  {
   "cell_type": "markdown",
   "metadata": {},
   "source": [
    "### 5. The EV sales and penetration rates in Delhi compare to Karnataka for 2024? "
   ]
  },
  {
   "cell_type": "code",
   "execution_count": 111,
   "metadata": {},
   "outputs": [
    {
     "data": {
      "text/plain": [
       "array(['Sikkim', 'Andaman & Nicobar', 'Arunachal Pradesh', 'Assam',\n",
       "       'Chhattisgarh', 'DNH and DD', 'Jammu and Kashmir', 'Ladakh',\n",
       "       'Manipur', 'Meghalaya', 'Mizoram', 'Nagaland', 'Puducherry',\n",
       "       'Tripura', 'Bihar', 'Haryana', 'Delhi', 'Madhya Pradesh', 'Odisha',\n",
       "       'Punjab', 'Uttarakhand', 'Himachal Pradesh', 'Jharkhand',\n",
       "       'Andhra Pradesh', 'Goa', 'Gujarat', 'Karnataka', 'Kerala',\n",
       "       'Maharashtra', 'Rajasthan', 'Tamil Nadu', 'Uttar Pradesh',\n",
       "       'West Bengal'], dtype=object)"
      ]
     },
     "execution_count": 111,
     "metadata": {},
     "output_type": "execute_result"
    }
   ],
   "source": [
    "df_salebystatewithdate.state.unique()"
   ]
  },
  {
   "cell_type": "code",
   "execution_count": 112,
   "metadata": {},
   "outputs": [
    {
     "data": {
      "text/html": [
       "<div>\n",
       "<style scoped>\n",
       "    .dataframe tbody tr th:only-of-type {\n",
       "        vertical-align: middle;\n",
       "    }\n",
       "\n",
       "    .dataframe tbody tr th {\n",
       "        vertical-align: top;\n",
       "    }\n",
       "\n",
       "    .dataframe thead th {\n",
       "        text-align: right;\n",
       "    }\n",
       "</style>\n",
       "<table border=\"1\" class=\"dataframe\">\n",
       "  <thead>\n",
       "    <tr style=\"text-align: right;\">\n",
       "      <th></th>\n",
       "      <th>date</th>\n",
       "      <th>state</th>\n",
       "      <th>vehicle_category</th>\n",
       "      <th>electric_vehicles_sold</th>\n",
       "      <th>total_vehicles_sold</th>\n",
       "      <th>Penetration_Rate</th>\n",
       "      <th>fiscal_year</th>\n",
       "      <th>quarter</th>\n",
       "    </tr>\n",
       "  </thead>\n",
       "  <tbody>\n",
       "    <tr>\n",
       "      <th>1116</th>\n",
       "      <td>01-Apr-23</td>\n",
       "      <td>Delhi</td>\n",
       "      <td>4-Wheelers</td>\n",
       "      <td>551</td>\n",
       "      <td>14861</td>\n",
       "      <td>3.71</td>\n",
       "      <td>2024</td>\n",
       "      <td>Q1</td>\n",
       "    </tr>\n",
       "    <tr>\n",
       "      <th>1123</th>\n",
       "      <td>01-Apr-23</td>\n",
       "      <td>Karnataka</td>\n",
       "      <td>4-Wheelers</td>\n",
       "      <td>762</td>\n",
       "      <td>22368</td>\n",
       "      <td>3.41</td>\n",
       "      <td>2024</td>\n",
       "      <td>Q1</td>\n",
       "    </tr>\n",
       "    <tr>\n",
       "      <th>1142</th>\n",
       "      <td>01-May-23</td>\n",
       "      <td>Delhi</td>\n",
       "      <td>4-Wheelers</td>\n",
       "      <td>787</td>\n",
       "      <td>16609</td>\n",
       "      <td>4.74</td>\n",
       "      <td>2024</td>\n",
       "      <td>Q1</td>\n",
       "    </tr>\n",
       "    <tr>\n",
       "      <th>1149</th>\n",
       "      <td>01-May-23</td>\n",
       "      <td>Karnataka</td>\n",
       "      <td>4-Wheelers</td>\n",
       "      <td>999</td>\n",
       "      <td>22601</td>\n",
       "      <td>4.42</td>\n",
       "      <td>2024</td>\n",
       "      <td>Q1</td>\n",
       "    </tr>\n",
       "    <tr>\n",
       "      <th>1169</th>\n",
       "      <td>01-Jun-23</td>\n",
       "      <td>Delhi</td>\n",
       "      <td>4-Wheelers</td>\n",
       "      <td>935</td>\n",
       "      <td>15723</td>\n",
       "      <td>5.95</td>\n",
       "      <td>2024</td>\n",
       "      <td>Q1</td>\n",
       "    </tr>\n",
       "  </tbody>\n",
       "</table>\n",
       "</div>"
      ],
      "text/plain": [
       "           date      state vehicle_category  electric_vehicles_sold  \\\n",
       "1116  01-Apr-23      Delhi       4-Wheelers                     551   \n",
       "1123  01-Apr-23  Karnataka       4-Wheelers                     762   \n",
       "1142  01-May-23      Delhi       4-Wheelers                     787   \n",
       "1149  01-May-23  Karnataka       4-Wheelers                     999   \n",
       "1169  01-Jun-23      Delhi       4-Wheelers                     935   \n",
       "\n",
       "      total_vehicles_sold  Penetration_Rate  fiscal_year quarter  \n",
       "1116                14861              3.71         2024      Q1  \n",
       "1123                22368              3.41         2024      Q1  \n",
       "1142                16609              4.74         2024      Q1  \n",
       "1149                22601              4.42         2024      Q1  \n",
       "1169                15723              5.95         2024      Q1  "
      ]
     },
     "execution_count": 112,
     "metadata": {},
     "output_type": "execute_result"
    }
   ],
   "source": [
    "df_2024 = df_salebystatewithdate[(df_salebystatewithdate['state'].isin(['Delhi','Karnataka'])) & (df_salebystatewithdate['fiscal_year']== 2024)]\n",
    "df_2024.head()"
   ]
  },
  {
   "cell_type": "code",
   "execution_count": 113,
   "metadata": {},
   "outputs": [
    {
     "data": {
      "text/html": [
       "<div>\n",
       "<style scoped>\n",
       "    .dataframe tbody tr th:only-of-type {\n",
       "        vertical-align: middle;\n",
       "    }\n",
       "\n",
       "    .dataframe tbody tr th {\n",
       "        vertical-align: top;\n",
       "    }\n",
       "\n",
       "    .dataframe thead th {\n",
       "        text-align: right;\n",
       "    }\n",
       "</style>\n",
       "<table border=\"1\" class=\"dataframe\">\n",
       "  <thead>\n",
       "    <tr style=\"text-align: right;\">\n",
       "      <th></th>\n",
       "      <th>Penetration_Rate</th>\n",
       "      <th>electric_vehicles_sold</th>\n",
       "    </tr>\n",
       "    <tr>\n",
       "      <th>state</th>\n",
       "      <th></th>\n",
       "      <th></th>\n",
       "    </tr>\n",
       "  </thead>\n",
       "  <tbody>\n",
       "    <tr>\n",
       "      <th>Delhi</th>\n",
       "      <td>6.98250</td>\n",
       "      <td>46724</td>\n",
       "    </tr>\n",
       "    <tr>\n",
       "      <th>Karnataka</th>\n",
       "      <td>7.89375</td>\n",
       "      <td>160989</td>\n",
       "    </tr>\n",
       "  </tbody>\n",
       "</table>\n",
       "</div>"
      ],
      "text/plain": [
       "           Penetration_Rate  electric_vehicles_sold\n",
       "state                                              \n",
       "Delhi               6.98250                   46724\n",
       "Karnataka           7.89375                  160989"
      ]
     },
     "execution_count": 113,
     "metadata": {},
     "output_type": "execute_result"
    }
   ],
   "source": [
    "df_2024 = df_2024.groupby('state').agg({'Penetration_Rate': 'mean','electric_vehicles_sold': 'sum'}).reset_index()\n",
    "df_2024.set_index('state', inplace=True)\n",
    "df_2024.head()"
   ]
  },
  {
   "cell_type": "code",
   "execution_count": 114,
   "metadata": {},
   "outputs": [
    {
     "name": "stdout",
     "output_type": "stream",
     "text": [
      "state                        Delhi     Karnataka          diff\n",
      "Penetration_Rate            6.9825       7.89375       0.91125\n",
      "electric_vehicles_sold  46724.0000  160989.00000  114265.00000\n"
     ]
    }
   ],
   "source": [
    "diff = df_2024.loc['Karnataka'] - df_2024.loc['Delhi']\n",
    "\n",
    "# Add the difference to the DataFrame\n",
    "df_2024.loc['diff'] = diff\n",
    "\n",
    "# Transpose the DataFrame for desired format\n",
    "df_2024 = df_2024.T\n",
    "\n",
    "# Display the final DataFrame\n",
    "print(df_2024)"
   ]
  },
  {
   "cell_type": "markdown",
   "metadata": {},
   "source": [
    "### 6. List down the compounded annual growth rate (CAGR) in 4-wheeler units for the top 5 makers from 2022 to 2024. "
   ]
  },
  {
   "cell_type": "code",
   "execution_count": 115,
   "metadata": {},
   "outputs": [
    {
     "data": {
      "text/html": [
       "<div>\n",
       "<style scoped>\n",
       "    .dataframe tbody tr th:only-of-type {\n",
       "        vertical-align: middle;\n",
       "    }\n",
       "\n",
       "    .dataframe tbody tr th {\n",
       "        vertical-align: top;\n",
       "    }\n",
       "\n",
       "    .dataframe thead th {\n",
       "        text-align: right;\n",
       "    }\n",
       "</style>\n",
       "<table border=\"1\" class=\"dataframe\">\n",
       "  <thead>\n",
       "    <tr style=\"text-align: right;\">\n",
       "      <th></th>\n",
       "      <th>maker</th>\n",
       "      <th>fiscal_year</th>\n",
       "      <th>vehicle_category</th>\n",
       "      <th>electric_vehicles_sold</th>\n",
       "    </tr>\n",
       "  </thead>\n",
       "  <tbody>\n",
       "    <tr>\n",
       "      <th>0</th>\n",
       "      <td>AMPERE</td>\n",
       "      <td>2022</td>\n",
       "      <td>2-Wheelers</td>\n",
       "      <td>25510</td>\n",
       "    </tr>\n",
       "    <tr>\n",
       "      <th>1</th>\n",
       "      <td>AMPERE</td>\n",
       "      <td>2023</td>\n",
       "      <td>2-Wheelers</td>\n",
       "      <td>87376</td>\n",
       "    </tr>\n",
       "    <tr>\n",
       "      <th>2</th>\n",
       "      <td>AMPERE</td>\n",
       "      <td>2024</td>\n",
       "      <td>2-Wheelers</td>\n",
       "      <td>54388</td>\n",
       "    </tr>\n",
       "    <tr>\n",
       "      <th>3</th>\n",
       "      <td>ATHER</td>\n",
       "      <td>2022</td>\n",
       "      <td>2-Wheelers</td>\n",
       "      <td>19976</td>\n",
       "    </tr>\n",
       "    <tr>\n",
       "      <th>4</th>\n",
       "      <td>ATHER</td>\n",
       "      <td>2023</td>\n",
       "      <td>2-Wheelers</td>\n",
       "      <td>76921</td>\n",
       "    </tr>\n",
       "  </tbody>\n",
       "</table>\n",
       "</div>"
      ],
      "text/plain": [
       "    maker  fiscal_year vehicle_category  electric_vehicles_sold\n",
       "0  AMPERE         2022       2-Wheelers                   25510\n",
       "1  AMPERE         2023       2-Wheelers                   87376\n",
       "2  AMPERE         2024       2-Wheelers                   54388\n",
       "3   ATHER         2022       2-Wheelers                   19976\n",
       "4   ATHER         2023       2-Wheelers                   76921"
      ]
     },
     "execution_count": 115,
     "metadata": {},
     "output_type": "execute_result"
    }
   ],
   "source": [
    "grping_EV_sold  = df_salebymakerwithdate.groupby(['maker','fiscal_year','vehicle_category'])['electric_vehicles_sold'].sum().reset_index()\n",
    "grping_EV_sold.head()"
   ]
  },
  {
   "cell_type": "code",
   "execution_count": 116,
   "metadata": {},
   "outputs": [
    {
     "data": {
      "text/html": [
       "<div>\n",
       "<style scoped>\n",
       "    .dataframe tbody tr th:only-of-type {\n",
       "        vertical-align: middle;\n",
       "    }\n",
       "\n",
       "    .dataframe tbody tr th {\n",
       "        vertical-align: top;\n",
       "    }\n",
       "\n",
       "    .dataframe thead th {\n",
       "        text-align: right;\n",
       "    }\n",
       "</style>\n",
       "<table border=\"1\" class=\"dataframe\">\n",
       "  <thead>\n",
       "    <tr style=\"text-align: right;\">\n",
       "      <th></th>\n",
       "      <th>maker</th>\n",
       "      <th>fiscal_year</th>\n",
       "      <th>vehicle_category</th>\n",
       "      <th>electric_vehicles_sold</th>\n",
       "    </tr>\n",
       "  </thead>\n",
       "  <tbody>\n",
       "    <tr>\n",
       "      <th>13</th>\n",
       "      <td>BMW India</td>\n",
       "      <td>2022</td>\n",
       "      <td>4-Wheelers</td>\n",
       "      <td>7</td>\n",
       "    </tr>\n",
       "    <tr>\n",
       "      <th>15</th>\n",
       "      <td>BMW India</td>\n",
       "      <td>2024</td>\n",
       "      <td>4-Wheelers</td>\n",
       "      <td>1078</td>\n",
       "    </tr>\n",
       "    <tr>\n",
       "      <th>16</th>\n",
       "      <td>BYD India</td>\n",
       "      <td>2022</td>\n",
       "      <td>4-Wheelers</td>\n",
       "      <td>33</td>\n",
       "    </tr>\n",
       "    <tr>\n",
       "      <th>18</th>\n",
       "      <td>BYD India</td>\n",
       "      <td>2024</td>\n",
       "      <td>4-Wheelers</td>\n",
       "      <td>1466</td>\n",
       "    </tr>\n",
       "    <tr>\n",
       "      <th>22</th>\n",
       "      <td>Hyundai Motor</td>\n",
       "      <td>2022</td>\n",
       "      <td>4-Wheelers</td>\n",
       "      <td>110</td>\n",
       "    </tr>\n",
       "  </tbody>\n",
       "</table>\n",
       "</div>"
      ],
      "text/plain": [
       "            maker  fiscal_year vehicle_category  electric_vehicles_sold\n",
       "13      BMW India         2022       4-Wheelers                       7\n",
       "15      BMW India         2024       4-Wheelers                    1078\n",
       "16      BYD India         2022       4-Wheelers                      33\n",
       "18      BYD India         2024       4-Wheelers                    1466\n",
       "22  Hyundai Motor         2022       4-Wheelers                     110"
      ]
     },
     "execution_count": 116,
     "metadata": {},
     "output_type": "execute_result"
    }
   ],
   "source": [
    "# Remove fiscal year 2023 data\n",
    "grping_EV_sold_4wheelers = grping_EV_sold[~((grping_EV_sold['vehicle_category'] =='2-Wheelers') | (grping_EV_sold['fiscal_year'] == 2023)) ]\n",
    "\n",
    "grping_EV_sold_4wheelers.head()"
   ]
  },
  {
   "cell_type": "code",
   "execution_count": 117,
   "metadata": {},
   "outputs": [
    {
     "data": {
      "text/html": [
       "<div>\n",
       "<style scoped>\n",
       "    .dataframe tbody tr th:only-of-type {\n",
       "        vertical-align: middle;\n",
       "    }\n",
       "\n",
       "    .dataframe tbody tr th {\n",
       "        vertical-align: top;\n",
       "    }\n",
       "\n",
       "    .dataframe thead th {\n",
       "        text-align: right;\n",
       "    }\n",
       "</style>\n",
       "<table border=\"1\" class=\"dataframe\">\n",
       "  <thead>\n",
       "    <tr style=\"text-align: right;\">\n",
       "      <th>fiscal_year</th>\n",
       "      <th>2022</th>\n",
       "      <th>2024</th>\n",
       "      <th>CAGR_2022_2024</th>\n",
       "    </tr>\n",
       "    <tr>\n",
       "      <th>maker</th>\n",
       "      <th></th>\n",
       "      <th></th>\n",
       "      <th></th>\n",
       "    </tr>\n",
       "  </thead>\n",
       "  <tbody>\n",
       "    <tr>\n",
       "      <th>BMW India</th>\n",
       "      <td>7</td>\n",
       "      <td>1078</td>\n",
       "      <td>11.409674</td>\n",
       "    </tr>\n",
       "    <tr>\n",
       "      <th>Volvo Auto India</th>\n",
       "      <td>4</td>\n",
       "      <td>459</td>\n",
       "      <td>9.712143</td>\n",
       "    </tr>\n",
       "    <tr>\n",
       "      <th>BYD India</th>\n",
       "      <td>33</td>\n",
       "      <td>1466</td>\n",
       "      <td>5.665151</td>\n",
       "    </tr>\n",
       "    <tr>\n",
       "      <th>Hyundai Motor</th>\n",
       "      <td>110</td>\n",
       "      <td>1390</td>\n",
       "      <td>2.554766</td>\n",
       "    </tr>\n",
       "    <tr>\n",
       "      <th>Mercedes -Benz AG</th>\n",
       "      <td>26</td>\n",
       "      <td>291</td>\n",
       "      <td>2.345491</td>\n",
       "    </tr>\n",
       "  </tbody>\n",
       "</table>\n",
       "</div>"
      ],
      "text/plain": [
       "fiscal_year        2022  2024  CAGR_2022_2024\n",
       "maker                                        \n",
       "BMW India             7  1078       11.409674\n",
       "Volvo Auto India      4   459        9.712143\n",
       "BYD India            33  1466        5.665151\n",
       "Hyundai Motor       110  1390        2.554766\n",
       "Mercedes -Benz AG    26   291        2.345491"
      ]
     },
     "execution_count": 117,
     "metadata": {},
     "output_type": "execute_result"
    }
   ],
   "source": [
    "# Pivot the table to have fiscal years as columns for easier comparison\n",
    "df_cagr_pvt = grping_EV_sold_4wheelers.pivot(index='maker', columns='fiscal_year', values='electric_vehicles_sold')\n",
    "\n",
    "# Fill NaN values with 0\n",
    "df_cagr_pvt.fillna(0, inplace=True)\n",
    "\n",
    "# Define a function to calculate CAGR, handle zero or negative values\n",
    "def calculate_cagr(start, end, periods):\n",
    "    if start <= 0 or end <= 0:\n",
    "        return 0  # Return 0 for invalid cases (zero or negative sales)\n",
    "    return (end / start) ** (1 / periods) - 1\n",
    "\n",
    "# Apply the function for each row (CAGR from 2022 to 2024)\n",
    "df_cagr_pvt['CAGR_2022_2024'] = df_cagr_pvt.apply(lambda x: calculate_cagr(x.get(2022, 0), x.get(2024, 0), 2), axis=1)\n",
    "\n",
    "# Display the result\n",
    "df_cagr_pvt.nlargest(5,'CAGR_2022_2024')\n"
   ]
  },
  {
   "cell_type": "markdown",
   "metadata": {},
   "source": [
    "### 7. List down the top 10 states that had the highest compounded annual growth rate (CAGR) from 2022 to 2024 in total vehicles sold."
   ]
  },
  {
   "cell_type": "code",
   "execution_count": 118,
   "metadata": {},
   "outputs": [
    {
     "data": {
      "text/html": [
       "<div>\n",
       "<style scoped>\n",
       "    .dataframe tbody tr th:only-of-type {\n",
       "        vertical-align: middle;\n",
       "    }\n",
       "\n",
       "    .dataframe tbody tr th {\n",
       "        vertical-align: top;\n",
       "    }\n",
       "\n",
       "    .dataframe thead th {\n",
       "        text-align: right;\n",
       "    }\n",
       "</style>\n",
       "<table border=\"1\" class=\"dataframe\">\n",
       "  <thead>\n",
       "    <tr style=\"text-align: right;\">\n",
       "      <th>fiscal_year</th>\n",
       "      <th>2022</th>\n",
       "      <th>2023</th>\n",
       "      <th>2024</th>\n",
       "      <th>CAGR_2022_2024</th>\n",
       "    </tr>\n",
       "    <tr>\n",
       "      <th>maker</th>\n",
       "      <th></th>\n",
       "      <th></th>\n",
       "      <th></th>\n",
       "      <th></th>\n",
       "    </tr>\n",
       "  </thead>\n",
       "  <tbody>\n",
       "    <tr>\n",
       "      <th>BMW India</th>\n",
       "      <td>7.0</td>\n",
       "      <td>285.0</td>\n",
       "      <td>1078.0</td>\n",
       "      <td>11.409674</td>\n",
       "    </tr>\n",
       "    <tr>\n",
       "      <th>Volvo Auto India</th>\n",
       "      <td>4.0</td>\n",
       "      <td>105.0</td>\n",
       "      <td>459.0</td>\n",
       "      <td>9.712143</td>\n",
       "    </tr>\n",
       "    <tr>\n",
       "      <th>BYD India</th>\n",
       "      <td>33.0</td>\n",
       "      <td>920.0</td>\n",
       "      <td>1466.0</td>\n",
       "      <td>5.665151</td>\n",
       "    </tr>\n",
       "    <tr>\n",
       "      <th>OLA ELECTRIC</th>\n",
       "      <td>14401.0</td>\n",
       "      <td>152583.0</td>\n",
       "      <td>322489.0</td>\n",
       "      <td>3.732179</td>\n",
       "    </tr>\n",
       "    <tr>\n",
       "      <th>TVS</th>\n",
       "      <td>9739.0</td>\n",
       "      <td>82093.0</td>\n",
       "      <td>180743.0</td>\n",
       "      <td>3.307979</td>\n",
       "    </tr>\n",
       "    <tr>\n",
       "      <th>BAJAJ</th>\n",
       "      <td>7114.0</td>\n",
       "      <td>32797.0</td>\n",
       "      <td>105695.0</td>\n",
       "      <td>2.854520</td>\n",
       "    </tr>\n",
       "    <tr>\n",
       "      <th>Hyundai Motor</th>\n",
       "      <td>110.0</td>\n",
       "      <td>576.0</td>\n",
       "      <td>1390.0</td>\n",
       "      <td>2.554766</td>\n",
       "    </tr>\n",
       "    <tr>\n",
       "      <th>Mercedes -Benz AG</th>\n",
       "      <td>26.0</td>\n",
       "      <td>71.0</td>\n",
       "      <td>291.0</td>\n",
       "      <td>2.345491</td>\n",
       "    </tr>\n",
       "    <tr>\n",
       "      <th>Mahindra &amp; Mahindra</th>\n",
       "      <td>4042.0</td>\n",
       "      <td>13805.0</td>\n",
       "      <td>23346.0</td>\n",
       "      <td>1.403301</td>\n",
       "    </tr>\n",
       "    <tr>\n",
       "      <th>ATHER</th>\n",
       "      <td>19976.0</td>\n",
       "      <td>76921.0</td>\n",
       "      <td>107552.0</td>\n",
       "      <td>1.320358</td>\n",
       "    </tr>\n",
       "  </tbody>\n",
       "</table>\n",
       "</div>"
      ],
      "text/plain": [
       "fiscal_year             2022      2023      2024  CAGR_2022_2024\n",
       "maker                                                           \n",
       "BMW India                7.0     285.0    1078.0       11.409674\n",
       "Volvo Auto India         4.0     105.0     459.0        9.712143\n",
       "BYD India               33.0     920.0    1466.0        5.665151\n",
       "OLA ELECTRIC         14401.0  152583.0  322489.0        3.732179\n",
       "TVS                   9739.0   82093.0  180743.0        3.307979\n",
       "BAJAJ                 7114.0   32797.0  105695.0        2.854520\n",
       "Hyundai Motor          110.0     576.0    1390.0        2.554766\n",
       "Mercedes -Benz AG       26.0      71.0     291.0        2.345491\n",
       "Mahindra & Mahindra   4042.0   13805.0   23346.0        1.403301\n",
       "ATHER                19976.0   76921.0  107552.0        1.320358"
      ]
     },
     "execution_count": 118,
     "metadata": {},
     "output_type": "execute_result"
    }
   ],
   "source": [
    "# Pivot the table to have fiscal years as columns for easier comparison\n",
    "df_cagr_pvt = grping_EV_sold.pivot(index='maker', columns='fiscal_year', values='electric_vehicles_sold')\n",
    "\n",
    "# Fill NaN values with 0\n",
    "df_cagr_pvt.fillna(0, inplace=True)\n",
    "\n",
    "# Define a function to calculate CAGR, handle zero or negative values\n",
    "def calculate_cagr(start, end, periods):\n",
    "    if start <= 0 or end <= 0:\n",
    "        return 0  # Return 0 for invalid cases (zero or negative sales)\n",
    "    return (end / start) ** (1 / periods) - 1\n",
    "\n",
    "# Apply the function for each row (CAGR from 2022 to 2024)\n",
    "df_cagr_pvt['CAGR_2022_2024'] = df_cagr_pvt.apply(lambda x: calculate_cagr(x.get(2022, 0), x.get(2024, 0), 2), axis=1)\n",
    "\n",
    "# Display the result\n",
    "df_cagr_pvt.nlargest(10,'CAGR_2022_2024')"
   ]
  },
  {
   "cell_type": "markdown",
   "metadata": {},
   "source": [
    "### 8. The peak and low season months for EV sales based on the data from 2022 to 2024? "
   ]
  },
  {
   "cell_type": "code",
   "execution_count": 119,
   "metadata": {},
   "outputs": [
    {
     "data": {
      "text/html": [
       "<div>\n",
       "<style scoped>\n",
       "    .dataframe tbody tr th:only-of-type {\n",
       "        vertical-align: middle;\n",
       "    }\n",
       "\n",
       "    .dataframe tbody tr th {\n",
       "        vertical-align: top;\n",
       "    }\n",
       "\n",
       "    .dataframe thead th {\n",
       "        text-align: right;\n",
       "    }\n",
       "</style>\n",
       "<table border=\"1\" class=\"dataframe\">\n",
       "  <thead>\n",
       "    <tr style=\"text-align: right;\">\n",
       "      <th></th>\n",
       "      <th>date</th>\n",
       "      <th>vehicle_category</th>\n",
       "      <th>maker</th>\n",
       "      <th>electric_vehicles_sold</th>\n",
       "      <th>fiscal_year</th>\n",
       "      <th>quarter</th>\n",
       "    </tr>\n",
       "  </thead>\n",
       "  <tbody>\n",
       "    <tr>\n",
       "      <th>0</th>\n",
       "      <td>01-Apr-21</td>\n",
       "      <td>2-Wheelers</td>\n",
       "      <td>OLA ELECTRIC</td>\n",
       "      <td>0</td>\n",
       "      <td>2022</td>\n",
       "      <td>Q1</td>\n",
       "    </tr>\n",
       "    <tr>\n",
       "      <th>1</th>\n",
       "      <td>01-Apr-22</td>\n",
       "      <td>2-Wheelers</td>\n",
       "      <td>OKAYA EV</td>\n",
       "      <td>0</td>\n",
       "      <td>2023</td>\n",
       "      <td>Q1</td>\n",
       "    </tr>\n",
       "    <tr>\n",
       "      <th>2</th>\n",
       "      <td>01-May-21</td>\n",
       "      <td>2-Wheelers</td>\n",
       "      <td>OLA ELECTRIC</td>\n",
       "      <td>0</td>\n",
       "      <td>2022</td>\n",
       "      <td>Q1</td>\n",
       "    </tr>\n",
       "    <tr>\n",
       "      <th>3</th>\n",
       "      <td>01-Jun-21</td>\n",
       "      <td>2-Wheelers</td>\n",
       "      <td>OLA ELECTRIC</td>\n",
       "      <td>0</td>\n",
       "      <td>2022</td>\n",
       "      <td>Q1</td>\n",
       "    </tr>\n",
       "    <tr>\n",
       "      <th>4</th>\n",
       "      <td>01-Jul-21</td>\n",
       "      <td>2-Wheelers</td>\n",
       "      <td>OLA ELECTRIC</td>\n",
       "      <td>0</td>\n",
       "      <td>2022</td>\n",
       "      <td>Q2</td>\n",
       "    </tr>\n",
       "  </tbody>\n",
       "</table>\n",
       "</div>"
      ],
      "text/plain": [
       "        date vehicle_category         maker  electric_vehicles_sold  \\\n",
       "0  01-Apr-21       2-Wheelers  OLA ELECTRIC                       0   \n",
       "1  01-Apr-22       2-Wheelers      OKAYA EV                       0   \n",
       "2  01-May-21       2-Wheelers  OLA ELECTRIC                       0   \n",
       "3  01-Jun-21       2-Wheelers  OLA ELECTRIC                       0   \n",
       "4  01-Jul-21       2-Wheelers  OLA ELECTRIC                       0   \n",
       "\n",
       "   fiscal_year quarter  \n",
       "0         2022      Q1  \n",
       "1         2023      Q1  \n",
       "2         2022      Q1  \n",
       "3         2022      Q1  \n",
       "4         2022      Q2  "
      ]
     },
     "execution_count": 119,
     "metadata": {},
     "output_type": "execute_result"
    }
   ],
   "source": [
    "df_salebymakerwithdate.head()"
   ]
  },
  {
   "cell_type": "code",
   "execution_count": 120,
   "metadata": {},
   "outputs": [],
   "source": [
    "seasonal_month = df_salebymakerwithdate"
   ]
  },
  {
   "cell_type": "code",
   "execution_count": 121,
   "metadata": {},
   "outputs": [
    {
     "name": "stderr",
     "output_type": "stream",
     "text": [
      "C:\\Users\\HP\\AppData\\Local\\Temp\\ipykernel_13592\\1943847441.py:1: UserWarning: Could not infer format, so each element will be parsed individually, falling back to `dateutil`. To ensure parsing is consistent and as-expected, please specify a format.\n",
      "  seasonal_month['date'] = pd.to_datetime(seasonal_month['date'])\n"
     ]
    },
    {
     "data": {
      "text/html": [
       "<div>\n",
       "<style scoped>\n",
       "    .dataframe tbody tr th:only-of-type {\n",
       "        vertical-align: middle;\n",
       "    }\n",
       "\n",
       "    .dataframe tbody tr th {\n",
       "        vertical-align: top;\n",
       "    }\n",
       "\n",
       "    .dataframe thead th {\n",
       "        text-align: right;\n",
       "    }\n",
       "</style>\n",
       "<table border=\"1\" class=\"dataframe\">\n",
       "  <thead>\n",
       "    <tr style=\"text-align: right;\">\n",
       "      <th></th>\n",
       "      <th>date</th>\n",
       "      <th>vehicle_category</th>\n",
       "      <th>maker</th>\n",
       "      <th>electric_vehicles_sold</th>\n",
       "      <th>fiscal_year</th>\n",
       "      <th>quarter</th>\n",
       "      <th>month_year</th>\n",
       "    </tr>\n",
       "  </thead>\n",
       "  <tbody>\n",
       "    <tr>\n",
       "      <th>0</th>\n",
       "      <td>2021-04-01</td>\n",
       "      <td>2-Wheelers</td>\n",
       "      <td>OLA ELECTRIC</td>\n",
       "      <td>0</td>\n",
       "      <td>2022</td>\n",
       "      <td>Q1</td>\n",
       "      <td>2021-04</td>\n",
       "    </tr>\n",
       "    <tr>\n",
       "      <th>1</th>\n",
       "      <td>2022-04-01</td>\n",
       "      <td>2-Wheelers</td>\n",
       "      <td>OKAYA EV</td>\n",
       "      <td>0</td>\n",
       "      <td>2023</td>\n",
       "      <td>Q1</td>\n",
       "      <td>2022-04</td>\n",
       "    </tr>\n",
       "    <tr>\n",
       "      <th>2</th>\n",
       "      <td>2021-05-01</td>\n",
       "      <td>2-Wheelers</td>\n",
       "      <td>OLA ELECTRIC</td>\n",
       "      <td>0</td>\n",
       "      <td>2022</td>\n",
       "      <td>Q1</td>\n",
       "      <td>2021-05</td>\n",
       "    </tr>\n",
       "    <tr>\n",
       "      <th>3</th>\n",
       "      <td>2021-06-01</td>\n",
       "      <td>2-Wheelers</td>\n",
       "      <td>OLA ELECTRIC</td>\n",
       "      <td>0</td>\n",
       "      <td>2022</td>\n",
       "      <td>Q1</td>\n",
       "      <td>2021-06</td>\n",
       "    </tr>\n",
       "    <tr>\n",
       "      <th>4</th>\n",
       "      <td>2021-07-01</td>\n",
       "      <td>2-Wheelers</td>\n",
       "      <td>OLA ELECTRIC</td>\n",
       "      <td>0</td>\n",
       "      <td>2022</td>\n",
       "      <td>Q2</td>\n",
       "      <td>2021-07</td>\n",
       "    </tr>\n",
       "  </tbody>\n",
       "</table>\n",
       "</div>"
      ],
      "text/plain": [
       "        date vehicle_category         maker  electric_vehicles_sold  \\\n",
       "0 2021-04-01       2-Wheelers  OLA ELECTRIC                       0   \n",
       "1 2022-04-01       2-Wheelers      OKAYA EV                       0   \n",
       "2 2021-05-01       2-Wheelers  OLA ELECTRIC                       0   \n",
       "3 2021-06-01       2-Wheelers  OLA ELECTRIC                       0   \n",
       "4 2021-07-01       2-Wheelers  OLA ELECTRIC                       0   \n",
       "\n",
       "   fiscal_year quarter month_year  \n",
       "0         2022      Q1    2021-04  \n",
       "1         2023      Q1    2022-04  \n",
       "2         2022      Q1    2021-05  \n",
       "3         2022      Q1    2021-06  \n",
       "4         2022      Q2    2021-07  "
      ]
     },
     "execution_count": 121,
     "metadata": {},
     "output_type": "execute_result"
    }
   ],
   "source": [
    "seasonal_month['date'] = pd.to_datetime(seasonal_month['date'])\n",
    "\n",
    "# Extract month and year\n",
    "seasonal_month['month_year'] = seasonal_month['date'].dt.to_period('M')\n",
    "\n",
    "seasonal_month.head()"
   ]
  },
  {
   "cell_type": "code",
   "execution_count": 122,
   "metadata": {},
   "outputs": [
    {
     "data": {
      "text/plain": [
       "month_year\n",
       "2021-05     1499\n",
       "2021-06     5487\n",
       "2021-04     6315\n",
       "2021-07    15794\n",
       "2021-08    17153\n",
       "Freq: M, Name: electric_vehicles_sold, dtype: int64"
      ]
     },
     "execution_count": 122,
     "metadata": {},
     "output_type": "execute_result"
    }
   ],
   "source": [
    "seasonal_month = seasonal_month.groupby('month_year')['electric_vehicles_sold'].sum().sort_values()\n",
    "peakmonth = seasonal_month.head(1)\n",
    "lowmonth = seasonal_month.tail(1)\n",
    "seasonal_month .head()"
   ]
  },
  {
   "cell_type": "code",
   "execution_count": 123,
   "metadata": {},
   "outputs": [
    {
     "name": "stdout",
     "output_type": "stream",
     "text": [
      "The peak season months for EV sales based on the data from 2022 to 2024 is  2021-05 \n",
      "And low season months for EV sales based on the data from 2022 to 2024 is  2024-03\n"
     ]
    }
   ],
   "source": [
    "print(\"The peak season months for EV sales based on the data from 2022 to 2024 is \",peakmonth.index[0],\"\\nAnd low season months for EV sales based on the data from 2022 to 2024 is \",lowmonth.index[0]) "
   ]
  },
  {
   "cell_type": "markdown",
   "metadata": {},
   "source": [
    "### 10. Estimate the revenue growth rate of 4-wheeler and 2-wheelers EVs in India for 2022 vs 2024 and 2023 vs 2024, assuming an average unit price.\n"
   ]
  },
  {
   "attachments": {
    "image.png": {
     "image/png": "[encoded data removed]"
    }
   },
   "cell_type": "markdown",
   "metadata": {},
   "source": [
    "![image.png](attachment:image.png)"
   ]
  },
  {
   "cell_type": "code",
   "execution_count": 124,
   "metadata": {},
   "outputs": [
    {
     "data": {
      "text/html": [
       "<div>\n",
       "<style scoped>\n",
       "    .dataframe tbody tr th:only-of-type {\n",
       "        vertical-align: middle;\n",
       "    }\n",
       "\n",
       "    .dataframe tbody tr th {\n",
       "        vertical-align: top;\n",
       "    }\n",
       "\n",
       "    .dataframe thead th {\n",
       "        text-align: right;\n",
       "    }\n",
       "</style>\n",
       "<table border=\"1\" class=\"dataframe\">\n",
       "  <thead>\n",
       "    <tr style=\"text-align: right;\">\n",
       "      <th></th>\n",
       "      <th>date</th>\n",
       "      <th>vehicle_category</th>\n",
       "      <th>maker</th>\n",
       "      <th>electric_vehicles_sold</th>\n",
       "      <th>fiscal_year</th>\n",
       "      <th>quarter</th>\n",
       "      <th>month_year</th>\n",
       "    </tr>\n",
       "  </thead>\n",
       "  <tbody>\n",
       "    <tr>\n",
       "      <th>0</th>\n",
       "      <td>2021-04-01</td>\n",
       "      <td>2-Wheelers</td>\n",
       "      <td>OLA ELECTRIC</td>\n",
       "      <td>0</td>\n",
       "      <td>2022</td>\n",
       "      <td>Q1</td>\n",
       "      <td>2021-04</td>\n",
       "    </tr>\n",
       "    <tr>\n",
       "      <th>1</th>\n",
       "      <td>2022-04-01</td>\n",
       "      <td>2-Wheelers</td>\n",
       "      <td>OKAYA EV</td>\n",
       "      <td>0</td>\n",
       "      <td>2023</td>\n",
       "      <td>Q1</td>\n",
       "      <td>2022-04</td>\n",
       "    </tr>\n",
       "    <tr>\n",
       "      <th>2</th>\n",
       "      <td>2021-05-01</td>\n",
       "      <td>2-Wheelers</td>\n",
       "      <td>OLA ELECTRIC</td>\n",
       "      <td>0</td>\n",
       "      <td>2022</td>\n",
       "      <td>Q1</td>\n",
       "      <td>2021-05</td>\n",
       "    </tr>\n",
       "    <tr>\n",
       "      <th>3</th>\n",
       "      <td>2021-06-01</td>\n",
       "      <td>2-Wheelers</td>\n",
       "      <td>OLA ELECTRIC</td>\n",
       "      <td>0</td>\n",
       "      <td>2022</td>\n",
       "      <td>Q1</td>\n",
       "      <td>2021-06</td>\n",
       "    </tr>\n",
       "    <tr>\n",
       "      <th>4</th>\n",
       "      <td>2021-07-01</td>\n",
       "      <td>2-Wheelers</td>\n",
       "      <td>OLA ELECTRIC</td>\n",
       "      <td>0</td>\n",
       "      <td>2022</td>\n",
       "      <td>Q2</td>\n",
       "      <td>2021-07</td>\n",
       "    </tr>\n",
       "  </tbody>\n",
       "</table>\n",
       "</div>"
      ],
      "text/plain": [
       "        date vehicle_category         maker  electric_vehicles_sold  \\\n",
       "0 2021-04-01       2-Wheelers  OLA ELECTRIC                       0   \n",
       "1 2022-04-01       2-Wheelers      OKAYA EV                       0   \n",
       "2 2021-05-01       2-Wheelers  OLA ELECTRIC                       0   \n",
       "3 2021-06-01       2-Wheelers  OLA ELECTRIC                       0   \n",
       "4 2021-07-01       2-Wheelers  OLA ELECTRIC                       0   \n",
       "\n",
       "   fiscal_year quarter month_year  \n",
       "0         2022      Q1    2021-04  \n",
       "1         2023      Q1    2022-04  \n",
       "2         2022      Q1    2021-05  \n",
       "3         2022      Q1    2021-06  \n",
       "4         2022      Q2    2021-07  "
      ]
     },
     "execution_count": 124,
     "metadata": {},
     "output_type": "execute_result"
    }
   ],
   "source": [
    "df_salebymakerwithdate.head()"
   ]
  },
  {
   "cell_type": "code",
   "execution_count": 126,
   "metadata": {},
   "outputs": [
    {
     "data": {
      "text/html": [
       "<div>\n",
       "<style scoped>\n",
       "    .dataframe tbody tr th:only-of-type {\n",
       "        vertical-align: middle;\n",
       "    }\n",
       "\n",
       "    .dataframe tbody tr th {\n",
       "        vertical-align: top;\n",
       "    }\n",
       "\n",
       "    .dataframe thead th {\n",
       "        text-align: right;\n",
       "    }\n",
       "</style>\n",
       "<table border=\"1\" class=\"dataframe\">\n",
       "  <thead>\n",
       "    <tr style=\"text-align: right;\">\n",
       "      <th></th>\n",
       "      <th>vehicle_category</th>\n",
       "      <th>fiscal_year</th>\n",
       "      <th>electric_vehicles_sold</th>\n",
       "    </tr>\n",
       "  </thead>\n",
       "  <tbody>\n",
       "    <tr>\n",
       "      <th>0</th>\n",
       "      <td>2-Wheelers</td>\n",
       "      <td>2022</td>\n",
       "      <td>252573</td>\n",
       "    </tr>\n",
       "    <tr>\n",
       "      <th>1</th>\n",
       "      <td>2-Wheelers</td>\n",
       "      <td>2023</td>\n",
       "      <td>727903</td>\n",
       "    </tr>\n",
       "    <tr>\n",
       "      <th>2</th>\n",
       "      <td>2-Wheelers</td>\n",
       "      <td>2024</td>\n",
       "      <td>932692</td>\n",
       "    </tr>\n",
       "    <tr>\n",
       "      <th>3</th>\n",
       "      <td>4-Wheelers</td>\n",
       "      <td>2022</td>\n",
       "      <td>18577</td>\n",
       "    </tr>\n",
       "    <tr>\n",
       "      <th>4</th>\n",
       "      <td>4-Wheelers</td>\n",
       "      <td>2023</td>\n",
       "      <td>47465</td>\n",
       "    </tr>\n",
       "  </tbody>\n",
       "</table>\n",
       "</div>"
      ],
      "text/plain": [
       "  vehicle_category  fiscal_year  electric_vehicles_sold\n",
       "0       2-Wheelers         2022                  252573\n",
       "1       2-Wheelers         2023                  727903\n",
       "2       2-Wheelers         2024                  932692\n",
       "3       4-Wheelers         2022                   18577\n",
       "4       4-Wheelers         2023                   47465"
      ]
     },
     "execution_count": 126,
     "metadata": {},
     "output_type": "execute_result"
    }
   ],
   "source": [
    "revenuegrowth = df_salebymakerwithdate.groupby(['vehicle_category','fiscal_year'])['electric_vehicles_sold'].sum().reset_index()\n",
    "revenuegrowth.head()"
   ]
  },
  {
   "cell_type": "code",
   "execution_count": 129,
   "metadata": {},
   "outputs": [
    {
     "data": {
      "text/html": [
       "<div>\n",
       "<style scoped>\n",
       "    .dataframe tbody tr th:only-of-type {\n",
       "        vertical-align: middle;\n",
       "    }\n",
       "\n",
       "    .dataframe tbody tr th {\n",
       "        vertical-align: top;\n",
       "    }\n",
       "\n",
       "    .dataframe thead th {\n",
       "        text-align: right;\n",
       "    }\n",
       "</style>\n",
       "<table border=\"1\" class=\"dataframe\">\n",
       "  <thead>\n",
       "    <tr style=\"text-align: right;\">\n",
       "      <th></th>\n",
       "      <th>vehicle_category</th>\n",
       "      <th>fiscal_year</th>\n",
       "      <th>electric_vehicles_sold</th>\n",
       "      <th>Avg_price</th>\n",
       "    </tr>\n",
       "  </thead>\n",
       "  <tbody>\n",
       "    <tr>\n",
       "      <th>0</th>\n",
       "      <td>2-Wheelers</td>\n",
       "      <td>2022</td>\n",
       "      <td>252573</td>\n",
       "      <td>21468705000</td>\n",
       "    </tr>\n",
       "    <tr>\n",
       "      <th>1</th>\n",
       "      <td>2-Wheelers</td>\n",
       "      <td>2023</td>\n",
       "      <td>727903</td>\n",
       "      <td>61871755000</td>\n",
       "    </tr>\n",
       "    <tr>\n",
       "      <th>2</th>\n",
       "      <td>2-Wheelers</td>\n",
       "      <td>2024</td>\n",
       "      <td>932692</td>\n",
       "      <td>79278820000</td>\n",
       "    </tr>\n",
       "    <tr>\n",
       "      <th>3</th>\n",
       "      <td>4-Wheelers</td>\n",
       "      <td>2022</td>\n",
       "      <td>18577</td>\n",
       "      <td>27865500000</td>\n",
       "    </tr>\n",
       "    <tr>\n",
       "      <th>4</th>\n",
       "      <td>4-Wheelers</td>\n",
       "      <td>2023</td>\n",
       "      <td>47465</td>\n",
       "      <td>71197500000</td>\n",
       "    </tr>\n",
       "    <tr>\n",
       "      <th>5</th>\n",
       "      <td>4-Wheelers</td>\n",
       "      <td>2024</td>\n",
       "      <td>86901</td>\n",
       "      <td>130351500000</td>\n",
       "    </tr>\n",
       "  </tbody>\n",
       "</table>\n",
       "</div>"
      ],
      "text/plain": [
       "  vehicle_category  fiscal_year  electric_vehicles_sold     Avg_price\n",
       "0       2-Wheelers         2022                  252573   21468705000\n",
       "1       2-Wheelers         2023                  727903   61871755000\n",
       "2       2-Wheelers         2024                  932692   79278820000\n",
       "3       4-Wheelers         2022                   18577   27865500000\n",
       "4       4-Wheelers         2023                   47465   71197500000\n",
       "5       4-Wheelers         2024                   86901  130351500000"
      ]
     },
     "execution_count": 129,
     "metadata": {},
     "output_type": "execute_result"
    }
   ],
   "source": [
    "revenuegrowth['Avg_price'] = (revenuegrowth['electric_vehicles_sold']*85000).where(revenuegrowth['vehicle_category'] == '2-Wheelers',other=(revenuegrowth['electric_vehicles_sold']*1500000))\n",
    "revenuegrowth"
   ]
  },
  {
   "cell_type": "code",
   "execution_count": 138,
   "metadata": {},
   "outputs": [
    {
     "name": "stdout",
     "output_type": "stream",
     "text": [
      "The revenue growth rate of 2-wheeler and 4-wheelers EVs in India for 2023 vs 2024 are  269.28  and  367.79 \n",
      "The revenue growth rate of 2-wheeler and 4-wheelers EVs in India for 2022 vs 2024 are  28.13  and  83.08\n"
     ]
    },
    {
     "name": "stderr",
     "output_type": "stream",
     "text": [
      "C:\\Users\\HP\\AppData\\Local\\Temp\\ipykernel_13592\\1576051637.py:8: FutureWarning: Series.__getitem__ treating keys as positions is deprecated. In a future version, integer keys will always be treated as labels (consistent with DataFrame behavior). To access a value by position, use `ser.iloc[pos]`\n",
      "  print(\"The revenue growth rate of 2-wheeler and 4-wheelers EVs in India for 2023 vs 2024 are \",Growth_2022_2024[0],\" and \",Growth_2022_2024[1],\"\\nThe revenue growth rate of 2-wheeler and 4-wheelers EVs in India for 2022 vs 2024 are \",Growth_2023_2024[0],\" and \",Growth_2023_2024[1])\n"
     ]
    }
   ],
   "source": [
    "# Pivot table for easier comparison between years\n",
    "sales_pivot = revenuegrowth.pivot(index='vehicle_category', columns='fiscal_year', values='Avg_price')\n",
    "\n",
    "# Calculate growth rates\n",
    "Growth_2022_2024 = (((sales_pivot[2024] - sales_pivot[2022]) / sales_pivot[2022]) * 100).round(2)\n",
    "Growth_2023_2024 = (((sales_pivot[2024] - sales_pivot[2023]) / sales_pivot[2023]) * 100).round(2)\n",
    "\n",
    "print(\"The revenue growth rate of 2-wheeler and 4-wheelers EVs in India for 2023 vs 2024 are \",Growth_2022_2024[0],\" and \",Growth_2022_2024[1],\"\\nThe revenue growth rate of 2-wheeler and 4-wheelers EVs in India for 2022 vs 2024 are \",Growth_2023_2024[0],\" and \",Growth_2023_2024[1])"
   ]
  }
 ],
 "metadata": {
  "kernelspec": {
   "display_name": "Python 3",
   "language": "python",
   "name": "python3"
  },
  "language_info": {
   "codemirror_mode": {
    "name": "ipython",
    "version": 3
   },
   "file_extension": ".py",
   "mimetype": "text/x-python",
   "name": "python",
   "nbconvert_exporter": "python",
   "pygments_lexer": "ipython3",
   "version": "3.11.5"
  }
 },
 "nbformat": 4,
 "nbformat_minor": 2
}
